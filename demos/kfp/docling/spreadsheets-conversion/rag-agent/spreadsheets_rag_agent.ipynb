{
 "cells": [
  {
   "cell_type": "markdown",
   "id": "8531c96a-a364-472b-a2ad-ba52283b3d6e",
   "metadata": {},
   "source": [
    "## 1. Create Llama Stack client, list available models and vector databases"
   ]
  },
  {
   "cell_type": "code",
   "execution_count": 1,
   "id": "08984570-32ab-4e01-8c02-5917ab8da984",
   "metadata": {},
   "outputs": [
    {
     "name": "stderr",
     "output_type": "stream",
     "text": [
      "INFO:httpx:HTTP Request: GET http://lsd-llama-milvus-service:8321/v1/models \"HTTP/1.1 200 OK\"\n",
      "INFO:httpx:HTTP Request: GET http://lsd-llama-milvus-service:8321/v1/vector-dbs \"HTTP/1.1 200 OK\"\n"
     ]
    },
    {
     "name": "stdout",
     "output_type": "stream",
     "text": [
      "Models information: [Model(identifier='vllm', metadata={}, api_model_type='llm', provider_id='vllm-inference', type='model', provider_resource_id='vllm', model_type='llm'), Model(identifier='granite-embedding-125m', metadata={'embedding_dimension': 768.0}, api_model_type='embedding', provider_id='sentence-transformers', type='model', provider_resource_id='ibm-granite/granite-embedding-125m-english', model_type='embedding')]\n",
      "\n",
      "Identifier for Inference model in usage: vllm\n",
      "\n",
      "=== Available Vector Databases ===\n",
      "- ID: csv-vector-db\n",
      "  Provider: milvus\n",
      "  Embedding Model: granite-embedding-125m\n",
      "\n"
     ]
    }
   ],
   "source": [
    "from llama_stack_client import LlamaStackClient\n",
    "client = LlamaStackClient(base_url=\"http://lsd-llama-milvus-service:8321\")\n",
    "\n",
    "models = client.models.list()\n",
    "print(f\"Models information: {models}\\n\")\n",
    "\n",
    "inference_llm = next((model.identifier for model in models if model.model_type == 'llm'), None)\n",
    "print(f\"Identifier for Inference model in usage: {inference_llm}\\n\")\n",
    "\n",
    "# Check what vector databases exist\n",
    "print(\"=== Available Vector Databases ===\")\n",
    "vector_dbs = client.vector_dbs.list()\n",
    "if vector_dbs:\n",
    "    for vdb in vector_dbs:\n",
    "        print(f\"- ID: {vdb.identifier}\")\n",
    "        print(f\"  Provider: {vdb.provider_id}\")\n",
    "        print(f\"  Embedding Model: {vdb.embedding_model}\")\n",
    "        print()\n",
    "else:\n",
    "    print(\"No vector databases found!\")"
   ]
  },
  {
   "cell_type": "markdown",
   "id": "2c321c18-75ce-4afe-a347-4571f9e08b42",
   "metadata": {},
   "source": [
    "## 2. Create RAG Agent and prompt the LLM\n",
    "Prompt the LLM with questions in relation to the documents inserted, and see it return accurate answers."
   ]
  },
  {
   "cell_type": "code",
   "execution_count": 2,
   "id": "bfd2df1d-dca1-42d7-b249-45a2491c9c04",
   "metadata": {},
   "outputs": [
    {
     "name": "stderr",
     "output_type": "stream",
     "text": [
      "INFO:httpx:HTTP Request: POST http://lsd-llama-milvus-service:8321/v1/agents \"HTTP/1.1 200 OK\"\n",
      "INFO:httpx:HTTP Request: GET http://lsd-llama-milvus-service:8321/v1/tools?toolgroup_id=builtin%3A%3Arag%2Fknowledge_search \"HTTP/1.1 200 OK\"\n",
      "INFO:httpx:HTTP Request: POST http://lsd-llama-milvus-service:8321/v1/agents/994fe601-236b-4f3c-9e12-31c04b3446e8/session \"HTTP/1.1 200 OK\"\n",
      "INFO:httpx:HTTP Request: POST http://lsd-llama-milvus-service:8321/v1/agents/994fe601-236b-4f3c-9e12-31c04b3446e8/session/8c30db52-8962-44b0-bf8f-80c39561b112/turn \"HTTP/1.1 200 OK\"\n"
     ]
    },
    {
     "name": "stdout",
     "output_type": "stream",
     "text": [
      "prompt> What is gender, home country and age of Dulce Abril and Philip Gent?\n",
      "\u001b[33minference> \u001b[0m\u001b[33m\u001b[0m\u001b[97m\u001b[0m\n",
      "\u001b[32mtool_execution> Tool:knowledge_search Args:{'query': 'Dulce Abril and Philip Gent gender, home country, age'}\u001b[0m\n",
      "\u001b[32mtool_execution> Tool:knowledge_search Response:[TextContentItem(text='knowledge_search tool found 5 chunks:\\nBEGIN of knowledge_search tool results.\\n', type='text'), TextContentItem(text=\"Result 1\\nContent: 1, First Name = Dulce. 1, Last Name = Abril. 1, Gender = Female. 1, Country = United States. 1, Age = 32. 1, Date = 15/10/2017. 1, Id = 1562. 2, First Name = Mara. 2, Last Name = Hashimoto. 2, Gender = Female. 2, Country = Great Britain. 2, Age = 25. 2, Date = 16/08/2016. 2, Id = 1582. 3, First Name = Philip. 3, Last Name = Gent. 3, Gender = Male. 3, Country = France. 3, Age = 36. 3, Date = 21/05/2015. 3, Id = 2587. 4, First Name = Kathleen. 4, Last Name = Hanner. 4, Gender = Female. 4, Country = United States. 4, Age = 25. 4, Date = 15/10/2017. 4, Id = 3549. 5, First Name = Nereida. 5, Last Name = Magwood. 5, Gender = Female. 5, Country = United States. 5, Age = 58. 5, Date = 16/08/2016. 5, Id = 2468. 6, First Name = Gaston. 6, Last Name = Brumm. 6, Gender = Male. 6, Country = United States. 6, Age = 24. 6, Date = 21/05/2015. 6, Id = 2554. 7, First Name = Etta. 7, Last Name = Hurn. 7, Gender = Female. 7, Country = Great Britain. 7, Age = 56. 7, Date = 15/10/2017. 7, Id = 3598. 8, First Name = Earlean. 8, Last Name = Melgar. 8, Gender = Female. 8, Country = United States. 8, Age = 27. 8, Date = 16/08/2016. 8, Id = 2456. 9, First Name = Vincenza. 9, Last Name = Weiland. 9, Gender = Female. 9, Country = United States. 9, Age = 40. 9, Date = 21/05/2015. 9, Id = 6548\\nMetadata: {'file_name': 'people_Sheet1', 'document_id': 'f1701651-abc5-4072-bb8c-f8b2c90c33ef'}\\n\", type='text'), TextContentItem(text=\"Result 2\\nContent: 1, Customer Id = DD37Cf93aecA6Dc. 1, First Name = Sheryl. 1, Last Name = Baxter. 1, Company = Rasmussen Group. 1, City = East Leonard. 1, Country = Chile. 1, Phone 1 = 229.077.5154. 1, Phone 2 = 397.884.0519x718. 1, Email = zunigavanessa@smith.info. 1, Subscription Date = 2020-08-24. 1, Website = http://www.stephenson.com/. 2, Customer Id = 1Ef7b82A4CAAD10. 2, First Name = Preston. 2, Last Name = Lozano, Dr. 2, Company = Vega-Gentry. 2, City = East Jimmychester. 2, Country = Djibouti. 2, Phone 1 = 5153435776. 2, Phone 2 = 686-620-1820x944. 2, Email = vmata@colon.com. 2, Subscription Date = 2021-04-23. 2, Website = http://www.hobbs.com/. 3, Customer Id = 6F94879bDAfE5a6. 3, First Name = Roy. 3, Last Name = Berry. 3, Company = Murillo-Perry. 3, City = Isabelborough. 3, Country = Antigua and Barbuda. 3, Phone 1 = +1-539-402-0259. 3, Phone 2 = (496)978-3969x58947. 3, Email = beckycarr@hogan.com. 3, Subscription Date = 2020-03-25. 3, Website = http://www.lawrence.com/. 4, Customer Id = 5Cef8BFA16c5e3c. 4, First Name = Linda. 4, Last Name = Olsen. 4, Company = Dominguez, Mcmillan and Donovan. 4, City = Bensonview. 4, Country = Dominican Republic. 4, Phone 1 = 001-808-617-6467x12895. 4, Phone 2 = +1-813-324-8756. 4, Email = stanleyblackwell@benson.org. 4, Subscription Date = 2020-06-02. 4, Website =\\nMetadata: {'file_name': 'test_customers', 'document_id': 'c3e2916e-a15d-4f85-8349-e414a93d96bb'}\\n\", type='text'), TextContentItem(text=\"Result 3\\nContent: 12500. Widget C, Date = 2024-01-19. Widget C, Quantity = 6. Widget C, Revenue = 6100. Widget D, Date = 2024-01-20. Widget D, Quantity = 8. Widget D, Revenue = 8900\\nMetadata: {'file_name': 'sample_sales_data_SalesData', 'document_id': '1c524dc2-aea0-4438-b058-6690f9da9793'}\\n\", type='text'), TextContentItem(text=\"Result 4\\nContent: http://www.good-lyons.com/. 5, Customer Id = 053d585Ab6b3159. 5, First Name = Joanna. 5, Last Name = Bender. 5, Company = Martin, Lang and Andrade. 5, City = West Priscilla. 5, Country = Slovakia (Slovak Republic). 5, Phone 1 = 001-234-203-0635x76146. 5, Phone 2 = 001-199-446-3860x3486. 5, Email = colinalvarado@miles.net. 5, Subscription Date = 2021-04-17. 5, Website = https://goodwin-ingram.com/\\nMetadata: {'file_name': 'test_customers', 'document_id': '7b6cae3f-4307-4854-9e20-d47528cde5cb'}\\n\", type='text'), TextContentItem(text=\"Result 5\\nContent: Widget A, Date = 2024-01-01. Widget A, Quantity = 5. Widget A, Revenue = 5000. Widget B, Date = 2024-01-02. Widget B, Quantity = 10. Widget B, Revenue = 12000. Widget C, Date = 2024-01-03. Widget C, Quantity = 3. Widget C, Revenue = 3000. Widget D, Date = 2024-01-04. Widget D, Quantity = 8. Widget D, Revenue = 8000. Widget A, Date = 2024-01-05. Widget A, Quantity = 7. Widget A, Revenue = 7000. Widget B, Date = 2024-01-06. Widget B, Quantity = 6. Widget B, Revenue = 6000. Widget C, Date = 2024-01-07. Widget C, Quantity = 12. Widget C, Revenue = 15000. Widget D, Date = 2024-01-08. Widget D, Quantity = 9. Widget D, Revenue = 9000. Widget A, Date = 2024-01-09. Widget A, Quantity = 4. Widget A, Revenue = 4000. Widget B, Date = 2024-01-10. Widget B, Quantity = 11. Widget B, Revenue = 11000. Widget C, Date = 2024-01-11. Widget C, Quantity = 5. Widget C, Revenue = 5000. Widget D, Date = 2024-01-12. Widget D, Quantity = 8. Widget D, Revenue = 8500. Widget A, Date = 2024-01-13. Widget A, Quantity = 6. Widget A, Revenue = 6200. Widget B, Date = 2024-01-14. Widget B, Quantity = 7. Widget B, Revenue = 7100. Widget C, Date = 2024-01-15. Widget C, Quantity = 10. Widget C, Revenue = 10500. Widget D, Date = 2024-01-16. Widget D, Quantity = 3. Widget D, Revenue = 3200. Widget A, Date = 2024-01-17. Widget A, Quantity = 9. Widget A, Revenue = 9400. Widget B, Date = 2024-01-18. Widget B, Quantity = 12. Widget B, Revenue =\\nMetadata: {'file_name': 'sample_sales_data_SalesData', 'document_id': 'a5d47f3f-dd75-4077-b13f-8ae57895560c'}\\n\", type='text'), TextContentItem(text='END of knowledge_search tool results.\\n', type='text'), TextContentItem(text='The above results were retrieved to help answer the user\\'s query: \"Dulce Abril and Philip Gent gender, home country, age\". Use them as supporting information only in answering this query.\\n', type='text')]\u001b[0m\n",
      "\u001b[33minference> \u001b[0m\u001b[33m\u001b[0m\u001b[33mBased\u001b[0m\u001b[33m on\u001b[0m\u001b[33m the\u001b[0m\u001b[33m search\u001b[0m\u001b[33m results\u001b[0m\u001b[33m,\u001b[0m\u001b[33m here\u001b[0m\u001b[33m is\u001b[0m\u001b[33m the\u001b[0m\u001b[33m information\u001b[0m\u001b[33m about\u001b[0m\u001b[33m Dul\u001b[0m\u001b[33mce\u001b[0m\u001b[33m Abr\u001b[0m\u001b[33mil\u001b[0m\u001b[33m and\u001b[0m\u001b[33m Philip\u001b[0m\u001b[33m Gent\u001b[0m\u001b[33m:\n",
      "\n",
      "\u001b[0m\u001b[33m*\u001b[0m\u001b[33m Dul\u001b[0m\u001b[33mce\u001b[0m\u001b[33m Abr\u001b[0m\u001b[33mil\u001b[0m\u001b[33m:\n",
      "\u001b[0m\u001b[33m\t\u001b[0m\u001b[33m+\u001b[0m\u001b[33m Gender\u001b[0m\u001b[33m:\u001b[0m\u001b[33m Female\u001b[0m\u001b[33m\n",
      "\u001b[0m\u001b[33m\t\u001b[0m\u001b[33m+\u001b[0m\u001b[33m Home\u001b[0m\u001b[33m Country\u001b[0m\u001b[33m:\u001b[0m\u001b[33m United\u001b[0m\u001b[33m States\u001b[0m\u001b[33m\n",
      "\u001b[0m\u001b[33m\t\u001b[0m\u001b[33m+\u001b[0m\u001b[33m Age\u001b[0m\u001b[33m:\u001b[0m\u001b[33m \u001b[0m\u001b[33m32\u001b[0m\u001b[33m\n",
      "\u001b[0m\u001b[33m*\u001b[0m\u001b[33m Philip\u001b[0m\u001b[33m Gent\u001b[0m\u001b[33m:\n",
      "\u001b[0m\u001b[33m\t\u001b[0m\u001b[33m+\u001b[0m\u001b[33m Gender\u001b[0m\u001b[33m:\u001b[0m\u001b[33m Male\u001b[0m\u001b[33m\n",
      "\u001b[0m\u001b[33m\t\u001b[0m\u001b[33m+\u001b[0m\u001b[33m Home\u001b[0m\u001b[33m Country\u001b[0m\u001b[33m:\u001b[0m\u001b[33m France\u001b[0m\u001b[33m\n",
      "\u001b[0m\u001b[33m\t\u001b[0m\u001b[33m+\u001b[0m\u001b[33m Age\u001b[0m\u001b[33m:\u001b[0m\u001b[33m \u001b[0m\u001b[33m36\u001b[0m\u001b[97m\u001b[0m\n",
      "\u001b[30m\u001b[0m"
     ]
    },
    {
     "name": "stderr",
     "output_type": "stream",
     "text": [
      "INFO:httpx:HTTP Request: POST http://lsd-llama-milvus-service:8321/v1/agents/994fe601-236b-4f3c-9e12-31c04b3446e8/session/8c30db52-8962-44b0-bf8f-80c39561b112/turn \"HTTP/1.1 200 OK\"\n"
     ]
    },
    {
     "name": "stdout",
     "output_type": "stream",
     "text": [
      "prompt> What is customer id, company, city, country, phone number, email, subscription date, subscribed website of of Sheryl Baxter?\n",
      "\u001b[33minference> \u001b[0m\u001b[33m\u001b[0m\u001b[97m\u001b[0m\n",
      "\u001b[32mtool_execution> Tool:knowledge_search Args:{'query': 'Sheryl Baxter customer id, company, city, country, phone number, email, subscription date, subscribed website'}\u001b[0m\n",
      "\u001b[32mtool_execution> Tool:knowledge_search Response:[TextContentItem(text='knowledge_search tool found 5 chunks:\\nBEGIN of knowledge_search tool results.\\n', type='text'), TextContentItem(text=\"Result 1\\nContent: 1, Customer Id = DD37Cf93aecA6Dc. 1, First Name = Sheryl. 1, Last Name = Baxter. 1, Company = Rasmussen Group. 1, City = East Leonard. 1, Country = Chile. 1, Phone 1 = 229.077.5154. 1, Phone 2 = 397.884.0519x718. 1, Email = zunigavanessa@smith.info. 1, Subscription Date = 2020-08-24. 1, Website = http://www.stephenson.com/. 2, Customer Id = 1Ef7b82A4CAAD10. 2, First Name = Preston. 2, Last Name = Lozano, Dr. 2, Company = Vega-Gentry. 2, City = East Jimmychester. 2, Country = Djibouti. 2, Phone 1 = 5153435776. 2, Phone 2 = 686-620-1820x944. 2, Email = vmata@colon.com. 2, Subscription Date = 2021-04-23. 2, Website = http://www.hobbs.com/. 3, Customer Id = 6F94879bDAfE5a6. 3, First Name = Roy. 3, Last Name = Berry. 3, Company = Murillo-Perry. 3, City = Isabelborough. 3, Country = Antigua and Barbuda. 3, Phone 1 = +1-539-402-0259. 3, Phone 2 = (496)978-3969x58947. 3, Email = beckycarr@hogan.com. 3, Subscription Date = 2020-03-25. 3, Website = http://www.lawrence.com/. 4, Customer Id = 5Cef8BFA16c5e3c. 4, First Name = Linda. 4, Last Name = Olsen. 4, Company = Dominguez, Mcmillan and Donovan. 4, City = Bensonview. 4, Country = Dominican Republic. 4, Phone 1 = 001-808-617-6467x12895. 4, Phone 2 = +1-813-324-8756. 4, Email = stanleyblackwell@benson.org. 4, Subscription Date = 2020-06-02. 4, Website =\\nMetadata: {'file_name': 'test_customers', 'document_id': 'c3e2916e-a15d-4f85-8349-e414a93d96bb'}\\n\", type='text'), TextContentItem(text=\"Result 2\\nContent: http://www.good-lyons.com/. 5, Customer Id = 053d585Ab6b3159. 5, First Name = Joanna. 5, Last Name = Bender. 5, Company = Martin, Lang and Andrade. 5, City = West Priscilla. 5, Country = Slovakia (Slovak Republic). 5, Phone 1 = 001-234-203-0635x76146. 5, Phone 2 = 001-199-446-3860x3486. 5, Email = colinalvarado@miles.net. 5, Subscription Date = 2021-04-17. 5, Website = https://goodwin-ingram.com/\\nMetadata: {'file_name': 'test_customers', 'document_id': '7b6cae3f-4307-4854-9e20-d47528cde5cb'}\\n\", type='text'), TextContentItem(text=\"Result 3\\nContent: 12500. Widget C, Date = 2024-01-19. Widget C, Quantity = 6. Widget C, Revenue = 6100. Widget D, Date = 2024-01-20. Widget D, Quantity = 8. Widget D, Revenue = 8900\\nMetadata: {'file_name': 'sample_sales_data_SalesData', 'document_id': '1c524dc2-aea0-4438-b058-6690f9da9793'}\\n\", type='text'), TextContentItem(text=\"Result 4\\nContent: 1, First Name = Dulce. 1, Last Name = Abril. 1, Gender = Female. 1, Country = United States. 1, Age = 32. 1, Date = 15/10/2017. 1, Id = 1562. 2, First Name = Mara. 2, Last Name = Hashimoto. 2, Gender = Female. 2, Country = Great Britain. 2, Age = 25. 2, Date = 16/08/2016. 2, Id = 1582. 3, First Name = Philip. 3, Last Name = Gent. 3, Gender = Male. 3, Country = France. 3, Age = 36. 3, Date = 21/05/2015. 3, Id = 2587. 4, First Name = Kathleen. 4, Last Name = Hanner. 4, Gender = Female. 4, Country = United States. 4, Age = 25. 4, Date = 15/10/2017. 4, Id = 3549. 5, First Name = Nereida. 5, Last Name = Magwood. 5, Gender = Female. 5, Country = United States. 5, Age = 58. 5, Date = 16/08/2016. 5, Id = 2468. 6, First Name = Gaston. 6, Last Name = Brumm. 6, Gender = Male. 6, Country = United States. 6, Age = 24. 6, Date = 21/05/2015. 6, Id = 2554. 7, First Name = Etta. 7, Last Name = Hurn. 7, Gender = Female. 7, Country = Great Britain. 7, Age = 56. 7, Date = 15/10/2017. 7, Id = 3598. 8, First Name = Earlean. 8, Last Name = Melgar. 8, Gender = Female. 8, Country = United States. 8, Age = 27. 8, Date = 16/08/2016. 8, Id = 2456. 9, First Name = Vincenza. 9, Last Name = Weiland. 9, Gender = Female. 9, Country = United States. 9, Age = 40. 9, Date = 21/05/2015. 9, Id = 6548\\nMetadata: {'file_name': 'people_Sheet1', 'document_id': 'f1701651-abc5-4072-bb8c-f8b2c90c33ef'}\\n\", type='text'), TextContentItem(text=\"Result 5\\nContent: Widget A, Date = 2024-01-01. Widget A, Quantity = 5. Widget A, Revenue = 5000. Widget B, Date = 2024-01-02. Widget B, Quantity = 10. Widget B, Revenue = 12000. Widget C, Date = 2024-01-03. Widget C, Quantity = 3. Widget C, Revenue = 3000. Widget D, Date = 2024-01-04. Widget D, Quantity = 8. Widget D, Revenue = 8000. Widget A, Date = 2024-01-05. Widget A, Quantity = 7. Widget A, Revenue = 7000. Widget B, Date = 2024-01-06. Widget B, Quantity = 6. Widget B, Revenue = 6000. Widget C, Date = 2024-01-07. Widget C, Quantity = 12. Widget C, Revenue = 15000. Widget D, Date = 2024-01-08. Widget D, Quantity = 9. Widget D, Revenue = 9000. Widget A, Date = 2024-01-09. Widget A, Quantity = 4. Widget A, Revenue = 4000. Widget B, Date = 2024-01-10. Widget B, Quantity = 11. Widget B, Revenue = 11000. Widget C, Date = 2024-01-11. Widget C, Quantity = 5. Widget C, Revenue = 5000. Widget D, Date = 2024-01-12. Widget D, Quantity = 8. Widget D, Revenue = 8500. Widget A, Date = 2024-01-13. Widget A, Quantity = 6. Widget A, Revenue = 6200. Widget B, Date = 2024-01-14. Widget B, Quantity = 7. Widget B, Revenue = 7100. Widget C, Date = 2024-01-15. Widget C, Quantity = 10. Widget C, Revenue = 10500. Widget D, Date = 2024-01-16. Widget D, Quantity = 3. Widget D, Revenue = 3200. Widget A, Date = 2024-01-17. Widget A, Quantity = 9. Widget A, Revenue = 9400. Widget B, Date = 2024-01-18. Widget B, Quantity = 12. Widget B, Revenue =\\nMetadata: {'file_name': 'sample_sales_data_SalesData', 'document_id': 'a5d47f3f-dd75-4077-b13f-8ae57895560c'}\\n\", type='text'), TextContentItem(text='END of knowledge_search tool results.\\n', type='text'), TextContentItem(text='The above results were retrieved to help answer the user\\'s query: \"Sheryl Baxter customer id, company, city, country, phone number, email, subscription date, subscribed website\". Use them as supporting information only in answering this query.\\n', type='text')]\u001b[0m\n",
      "\u001b[33minference> \u001b[0m\u001b[33m\u001b[0m\u001b[33mBased\u001b[0m\u001b[33m on\u001b[0m\u001b[33m the\u001b[0m\u001b[33m search\u001b[0m\u001b[33m results\u001b[0m\u001b[33m,\u001b[0m\u001b[33m here\u001b[0m\u001b[33m is\u001b[0m\u001b[33m the\u001b[0m\u001b[33m information\u001b[0m\u001b[33m about\u001b[0m\u001b[33m Sh\u001b[0m\u001b[33meryl\u001b[0m\u001b[33m Baxter\u001b[0m\u001b[33m:\n",
      "\n",
      "\u001b[0m\u001b[33m*\u001b[0m\u001b[33m Customer\u001b[0m\u001b[33m Id\u001b[0m\u001b[33m:\u001b[0m\u001b[33m DD\u001b[0m\u001b[33m37\u001b[0m\u001b[33mC\u001b[0m\u001b[33mf\u001b[0m\u001b[33m93\u001b[0m\u001b[33maec\u001b[0m\u001b[33mA\u001b[0m\u001b[33m6\u001b[0m\u001b[33mD\u001b[0m\u001b[33mc\u001b[0m\u001b[33m\n",
      "\u001b[0m\u001b[33m*\u001b[0m\u001b[33m First\u001b[0m\u001b[33m Name\u001b[0m\u001b[33m:\u001b[0m\u001b[33m Sh\u001b[0m\u001b[33meryl\u001b[0m\u001b[33m\n",
      "\u001b[0m\u001b[33m*\u001b[0m\u001b[33m Last\u001b[0m\u001b[33m Name\u001b[0m\u001b[33m:\u001b[0m\u001b[33m Baxter\u001b[0m\u001b[33m\n",
      "\u001b[0m\u001b[33m*\u001b[0m\u001b[33m Company\u001b[0m\u001b[33m:\u001b[0m\u001b[33m R\u001b[0m\u001b[33masm\u001b[0m\u001b[33mussen\u001b[0m\u001b[33m Group\u001b[0m\u001b[33m\n",
      "\u001b[0m\u001b[33m*\u001b[0m\u001b[33m City\u001b[0m\u001b[33m:\u001b[0m\u001b[33m East\u001b[0m\u001b[33m Leonard\u001b[0m\u001b[33m\n",
      "\u001b[0m\u001b[33m*\u001b[0m\u001b[33m Country\u001b[0m\u001b[33m:\u001b[0m\u001b[33m Chile\u001b[0m\u001b[33m\n",
      "\u001b[0m\u001b[33m*\u001b[0m\u001b[33m Phone\u001b[0m\u001b[33m \u001b[0m\u001b[33m1\u001b[0m\u001b[33m:\u001b[0m\u001b[33m \u001b[0m\u001b[33m229\u001b[0m\u001b[33m.\u001b[0m\u001b[33m077\u001b[0m\u001b[33m.\u001b[0m\u001b[33m515\u001b[0m\u001b[33m4\u001b[0m\u001b[33m\n",
      "\u001b[0m\u001b[33m*\u001b[0m\u001b[33m Phone\u001b[0m\u001b[33m \u001b[0m\u001b[33m2\u001b[0m\u001b[33m:\u001b[0m\u001b[33m \u001b[0m\u001b[33m397\u001b[0m\u001b[33m.\u001b[0m\u001b[33m884\u001b[0m\u001b[33m.\u001b[0m\u001b[33m051\u001b[0m\u001b[33m9\u001b[0m\u001b[33mx\u001b[0m\u001b[33m718\u001b[0m\u001b[33m\n",
      "\u001b[0m\u001b[33m*\u001b[0m\u001b[33m Email\u001b[0m\u001b[33m:\u001b[0m\u001b[33m zun\u001b[0m\u001b[33mig\u001b[0m\u001b[33mavan\u001b[0m\u001b[33messa\u001b[0m\u001b[33m@\u001b[0m\u001b[33msmith\u001b[0m\u001b[33m.info\u001b[0m\u001b[33m\n",
      "\u001b[0m\u001b[33m*\u001b[0m\u001b[33m Subscription\u001b[0m\u001b[33m Date\u001b[0m\u001b[33m:\u001b[0m\u001b[33m \u001b[0m\u001b[33m202\u001b[0m\u001b[33m0\u001b[0m\u001b[33m-\u001b[0m\u001b[33m08\u001b[0m\u001b[33m-\u001b[0m\u001b[33m24\u001b[0m\u001b[33m\n",
      "\u001b[0m\u001b[33m*\u001b[0m\u001b[33m Website\u001b[0m\u001b[33m:\u001b[0m\u001b[33m http\u001b[0m\u001b[33m://\u001b[0m\u001b[33mwww\u001b[0m\u001b[33m.step\u001b[0m\u001b[33mh\u001b[0m\u001b[33menson\u001b[0m\u001b[33m.com\u001b[0m\u001b[33m/\u001b[0m\u001b[97m\u001b[0m\n",
      "\u001b[30m\u001b[0m"
     ]
    },
    {
     "name": "stderr",
     "output_type": "stream",
     "text": [
      "INFO:httpx:HTTP Request: POST http://lsd-llama-milvus-service:8321/v1/agents/994fe601-236b-4f3c-9e12-31c04b3446e8/session/8c30db52-8962-44b0-bf8f-80c39561b112/turn \"HTTP/1.1 200 OK\"\n"
     ]
    },
    {
     "name": "stdout",
     "output_type": "stream",
     "text": [
      "prompt> What products were sold according to sample sales data?\n",
      "\u001b[33minference> \u001b[0m\u001b[33m\u001b[0m\u001b[97m\u001b[0m\n",
      "\u001b[32mtool_execution> Tool:knowledge_search Args:{'query': 'sample sales data products sold'}\u001b[0m\n",
      "\u001b[32mtool_execution> Tool:knowledge_search Response:[TextContentItem(text='knowledge_search tool found 5 chunks:\\nBEGIN of knowledge_search tool results.\\n', type='text'), TextContentItem(text=\"Result 1\\nContent: Widget A, Date = 2024-01-01. Widget A, Quantity = 5. Widget A, Revenue = 5000. Widget B, Date = 2024-01-02. Widget B, Quantity = 10. Widget B, Revenue = 12000. Widget C, Date = 2024-01-03. Widget C, Quantity = 3. Widget C, Revenue = 3000. Widget D, Date = 2024-01-04. Widget D, Quantity = 8. Widget D, Revenue = 8000. Widget A, Date = 2024-01-05. Widget A, Quantity = 7. Widget A, Revenue = 7000. Widget B, Date = 2024-01-06. Widget B, Quantity = 6. Widget B, Revenue = 6000. Widget C, Date = 2024-01-07. Widget C, Quantity = 12. Widget C, Revenue = 15000. Widget D, Date = 2024-01-08. Widget D, Quantity = 9. Widget D, Revenue = 9000. Widget A, Date = 2024-01-09. Widget A, Quantity = 4. Widget A, Revenue = 4000. Widget B, Date = 2024-01-10. Widget B, Quantity = 11. Widget B, Revenue = 11000. Widget C, Date = 2024-01-11. Widget C, Quantity = 5. Widget C, Revenue = 5000. Widget D, Date = 2024-01-12. Widget D, Quantity = 8. Widget D, Revenue = 8500. Widget A, Date = 2024-01-13. Widget A, Quantity = 6. Widget A, Revenue = 6200. Widget B, Date = 2024-01-14. Widget B, Quantity = 7. Widget B, Revenue = 7100. Widget C, Date = 2024-01-15. Widget C, Quantity = 10. Widget C, Revenue = 10500. Widget D, Date = 2024-01-16. Widget D, Quantity = 3. Widget D, Revenue = 3200. Widget A, Date = 2024-01-17. Widget A, Quantity = 9. Widget A, Revenue = 9400. Widget B, Date = 2024-01-18. Widget B, Quantity = 12. Widget B, Revenue =\\nMetadata: {'file_name': 'sample_sales_data_SalesData', 'document_id': 'a5d47f3f-dd75-4077-b13f-8ae57895560c'}\\n\", type='text'), TextContentItem(text=\"Result 2\\nContent: 1, Customer Id = DD37Cf93aecA6Dc. 1, First Name = Sheryl. 1, Last Name = Baxter. 1, Company = Rasmussen Group. 1, City = East Leonard. 1, Country = Chile. 1, Phone 1 = 229.077.5154. 1, Phone 2 = 397.884.0519x718. 1, Email = zunigavanessa@smith.info. 1, Subscription Date = 2020-08-24. 1, Website = http://www.stephenson.com/. 2, Customer Id = 1Ef7b82A4CAAD10. 2, First Name = Preston. 2, Last Name = Lozano, Dr. 2, Company = Vega-Gentry. 2, City = East Jimmychester. 2, Country = Djibouti. 2, Phone 1 = 5153435776. 2, Phone 2 = 686-620-1820x944. 2, Email = vmata@colon.com. 2, Subscription Date = 2021-04-23. 2, Website = http://www.hobbs.com/. 3, Customer Id = 6F94879bDAfE5a6. 3, First Name = Roy. 3, Last Name = Berry. 3, Company = Murillo-Perry. 3, City = Isabelborough. 3, Country = Antigua and Barbuda. 3, Phone 1 = +1-539-402-0259. 3, Phone 2 = (496)978-3969x58947. 3, Email = beckycarr@hogan.com. 3, Subscription Date = 2020-03-25. 3, Website = http://www.lawrence.com/. 4, Customer Id = 5Cef8BFA16c5e3c. 4, First Name = Linda. 4, Last Name = Olsen. 4, Company = Dominguez, Mcmillan and Donovan. 4, City = Bensonview. 4, Country = Dominican Republic. 4, Phone 1 = 001-808-617-6467x12895. 4, Phone 2 = +1-813-324-8756. 4, Email = stanleyblackwell@benson.org. 4, Subscription Date = 2020-06-02. 4, Website =\\nMetadata: {'file_name': 'test_customers', 'document_id': 'c3e2916e-a15d-4f85-8349-e414a93d96bb'}\\n\", type='text'), TextContentItem(text=\"Result 3\\nContent: 12500. Widget C, Date = 2024-01-19. Widget C, Quantity = 6. Widget C, Revenue = 6100. Widget D, Date = 2024-01-20. Widget D, Quantity = 8. Widget D, Revenue = 8900\\nMetadata: {'file_name': 'sample_sales_data_SalesData', 'document_id': '1c524dc2-aea0-4438-b058-6690f9da9793'}\\n\", type='text'), TextContentItem(text=\"Result 4\\nContent: http://www.good-lyons.com/. 5, Customer Id = 053d585Ab6b3159. 5, First Name = Joanna. 5, Last Name = Bender. 5, Company = Martin, Lang and Andrade. 5, City = West Priscilla. 5, Country = Slovakia (Slovak Republic). 5, Phone 1 = 001-234-203-0635x76146. 5, Phone 2 = 001-199-446-3860x3486. 5, Email = colinalvarado@miles.net. 5, Subscription Date = 2021-04-17. 5, Website = https://goodwin-ingram.com/\\nMetadata: {'file_name': 'test_customers', 'document_id': '7b6cae3f-4307-4854-9e20-d47528cde5cb'}\\n\", type='text'), TextContentItem(text=\"Result 5\\nContent: 1, First Name = Dulce. 1, Last Name = Abril. 1, Gender = Female. 1, Country = United States. 1, Age = 32. 1, Date = 15/10/2017. 1, Id = 1562. 2, First Name = Mara. 2, Last Name = Hashimoto. 2, Gender = Female. 2, Country = Great Britain. 2, Age = 25. 2, Date = 16/08/2016. 2, Id = 1582. 3, First Name = Philip. 3, Last Name = Gent. 3, Gender = Male. 3, Country = France. 3, Age = 36. 3, Date = 21/05/2015. 3, Id = 2587. 4, First Name = Kathleen. 4, Last Name = Hanner. 4, Gender = Female. 4, Country = United States. 4, Age = 25. 4, Date = 15/10/2017. 4, Id = 3549. 5, First Name = Nereida. 5, Last Name = Magwood. 5, Gender = Female. 5, Country = United States. 5, Age = 58. 5, Date = 16/08/2016. 5, Id = 2468. 6, First Name = Gaston. 6, Last Name = Brumm. 6, Gender = Male. 6, Country = United States. 6, Age = 24. 6, Date = 21/05/2015. 6, Id = 2554. 7, First Name = Etta. 7, Last Name = Hurn. 7, Gender = Female. 7, Country = Great Britain. 7, Age = 56. 7, Date = 15/10/2017. 7, Id = 3598. 8, First Name = Earlean. 8, Last Name = Melgar. 8, Gender = Female. 8, Country = United States. 8, Age = 27. 8, Date = 16/08/2016. 8, Id = 2456. 9, First Name = Vincenza. 9, Last Name = Weiland. 9, Gender = Female. 9, Country = United States. 9, Age = 40. 9, Date = 21/05/2015. 9, Id = 6548\\nMetadata: {'file_name': 'people_Sheet1', 'document_id': 'f1701651-abc5-4072-bb8c-f8b2c90c33ef'}\\n\", type='text'), TextContentItem(text='END of knowledge_search tool results.\\n', type='text'), TextContentItem(text='The above results were retrieved to help answer the user\\'s query: \"sample sales data products sold\". Use them as supporting information only in answering this query.\\n', type='text')]\u001b[0m\n",
      "\u001b[33minference> \u001b[0m\u001b[33m\u001b[0m\u001b[33mBased\u001b[0m\u001b[33m on\u001b[0m\u001b[33m the\u001b[0m\u001b[33m search\u001b[0m\u001b[33m results\u001b[0m\u001b[33m,\u001b[0m\u001b[33m the\u001b[0m\u001b[33m products\u001b[0m\u001b[33m sold\u001b[0m\u001b[33m according\u001b[0m\u001b[33m to\u001b[0m\u001b[33m the\u001b[0m\u001b[33m sample\u001b[0m\u001b[33m sales\u001b[0m\u001b[33m data\u001b[0m\u001b[33m are\u001b[0m\u001b[33m:\n",
      "\n",
      "\u001b[0m\u001b[33m*\u001b[0m\u001b[33m Widget\u001b[0m\u001b[33m A\u001b[0m\u001b[33m\n",
      "\u001b[0m\u001b[33m*\u001b[0m\u001b[33m Widget\u001b[0m\u001b[33m B\u001b[0m\u001b[33m\n",
      "\u001b[0m\u001b[33m*\u001b[0m\u001b[33m Widget\u001b[0m\u001b[33m C\u001b[0m\u001b[33m\n",
      "\u001b[0m\u001b[33m*\u001b[0m\u001b[33m Widget\u001b[0m\u001b[33m D\u001b[0m\u001b[33m\n",
      "\n",
      "\u001b[0m\u001b[33mThe\u001b[0m\u001b[33m quantities\u001b[0m\u001b[33m and\u001b[0m\u001b[33m revenues\u001b[0m\u001b[33m for\u001b[0m\u001b[33m each\u001b[0m\u001b[33m product\u001b[0m\u001b[33m are\u001b[0m\u001b[33m also\u001b[0m\u001b[33m provided\u001b[0m\u001b[33m in\u001b[0m\u001b[33m the\u001b[0m\u001b[33m results\u001b[0m\u001b[33m.\u001b[0m\u001b[97m\u001b[0m\n",
      "\u001b[30m\u001b[0m"
     ]
    },
    {
     "name": "stderr",
     "output_type": "stream",
     "text": [
      "INFO:httpx:HTTP Request: POST http://lsd-llama-milvus-service:8321/v1/agents/994fe601-236b-4f3c-9e12-31c04b3446e8/session/8c30db52-8962-44b0-bf8f-80c39561b112/turn \"HTTP/1.1 200 OK\"\n"
     ]
    },
    {
     "name": "stdout",
     "output_type": "stream",
     "text": [
      "prompt> What is the economics condition at Ireland in 2025?\n",
      "\u001b[33minference> \u001b[0m\u001b[33m\u001b[0m\u001b[33mI\u001b[0m\u001b[33m don\u001b[0m\u001b[33m’t\u001b[0m\u001b[33m know\u001b[0m\u001b[97m\u001b[0m\n",
      "\u001b[30m\u001b[0m"
     ]
    },
    {
     "name": "stderr",
     "output_type": "stream",
     "text": [
      "INFO:httpx:HTTP Request: GET http://lsd-llama-milvus-service:8321/v1/agents/994fe601-236b-4f3c-9e12-31c04b3446e8/session/8c30db52-8962-44b0-bf8f-80c39561b112 \"HTTP/1.1 200 OK\"\n"
     ]
    }
   ],
   "source": [
    "from llama_stack_client import Agent, AgentEventLogger\n",
    "import uuid\n",
    "\n",
    "rag_agent = Agent(\n",
    "    client,\n",
    "    model=\"vllm\",\n",
    "    instructions=\"You are a helpful assistant. Answer the user's question based only on the provided search results. Respond with 'I don’t know' if the information is outside of the scope of your knowledge and not present in the search results.\",\n",
    "    tools=[\n",
    "        {\n",
    "            \"name\": \"builtin::rag/knowledge_search\",\n",
    "            \"args\": {\"vector_db_ids\": [\"csv-vector-db\"]},\n",
    "        }\n",
    "    ],\n",
    ")\n",
    "\n",
    "user_prompts = [\n",
    "    \"What is gender, home country and age of Dulce Abril and Philip Gent?\",\n",
    "    \"What is customer id, company, city, country, phone number, email, subscription date, subscribed website of of Sheryl Baxter?\",\n",
    "    \"What products were sold according to sample sales data?\",\n",
    "    \"What is the economics condition at Ireland in 2025?\", # Dummy question the model will answer with 'I don’t know' \n",
    "]\n",
    "\n",
    "session_id = rag_agent.create_session(session_name=f\"s{uuid.uuid4().hex}\")\n",
    "\n",
    "for prompt in user_prompts:\n",
    "    print(\"prompt>\", prompt)\n",
    "    response = rag_agent.create_turn(\n",
    "        messages=[{\"role\": \"user\", \"content\": prompt}],\n",
    "        session_id=session_id,\n",
    "        stream=True,\n",
    "    )\n",
    "    for log in AgentEventLogger().log(response):\n",
    "        log.print()\n",
    "\n",
    "# Get session response for further evaluation of RAG metrics\n",
    "session_response = client.agents.session.retrieve(\n",
    "    session_id=session_id,\n",
    "    agent_id=rag_agent.agent_id,\n",
    ")"
   ]
  },
  {
   "cell_type": "markdown",
   "id": "920d4177-6bf8-4795-a94b-99130e495acf",
   "metadata": {},
   "source": [
    "## 3. Preparation for evaluating RAG models using [RAGAS](https://docs.ragas.io/en/stable/concepts/metrics/available_metrics/?h=metrics)\n",
    "\n",
    "- We will use two key metrics to show the performance of the RAG server:\n",
    "    1. [Faithfulness](https://docs.ragas.io/en/stable/concepts/metrics/available_metrics/faithfulness/) - measures how factually consistent a response is with the retrieved context. It ranges from 0 to 1, with higher scores indicating better consistency.\n",
    "    2. [Response Relevancy](https://docs.ragas.io/en/stable/concepts/metrics/available_metrics/answer_relevance/) - metric measures how relevant a response is to the user input. Higher scores indicate better alignment with the user input, while lower scores are given if the response is incomplete or includes redundant information.\n",
    "\n",
    " - Create .env.dev file and paste there your API Key from [Groq Cloud](https://console.groq.com/home)"
   ]
  },
  {
   "cell_type": "code",
   "execution_count": 3,
   "id": "88e21cea-b6eb-4ec3-854d-304f7586c7e7",
   "metadata": {},
   "outputs": [
    {
     "data": {
      "text/plain": [
       "True"
      ]
     },
     "execution_count": 3,
     "metadata": {},
     "output_type": "execute_result"
    }
   ],
   "source": [
    "from dotenv import load_dotenv\n",
    "\n",
    "with open(\".env.dev\", \"w\") as f:\n",
    "    f.write('GROQ_API_KEY=YOUR_GROQ_API_KEY')\n",
    "\n",
    "# load env variable\n",
    "load_dotenv(dotenv_path=\".env.dev\", override=True)"
   ]
  },
  {
   "cell_type": "code",
   "execution_count": 4,
   "id": "b7269b42-3c95-4041-ad8f-9d2a5aee1011",
   "metadata": {},
   "outputs": [],
   "source": [
    "import re\n",
    "from typing import List, Dict, Any, Union\n",
    "from llama_stack_client.types.agents import Turn\n",
    "\n",
    "# Compile regex pattern once for better performance\n",
    "CONTENT_PATTERN = re.compile(r\"Content:\\s*(.*?)(?=\\nMetadata:|$)\", re.DOTALL)\n",
    "\n",
    "# This function extracts the search results for the trace of each query\n",
    "def extract_retrieved_contexts(turn_object: Turn) -> List[str]:\n",
    "    \"\"\"\n",
    "    Extracts retrieved contexts from LlamaStack tool execution responses.\n",
    "    \n",
    "    Args:\n",
    "        turn_object: A Turn object from LlamaStack containing steps with tool responses\n",
    "        \n",
    "    Returns:\n",
    "        List of retrieved context strings for Ragas evaluation\n",
    "    \"\"\"\n",
    "    retrieved_context = []\n",
    "\n",
    "    # Filter tool execution steps first to reduce iterations\n",
    "    tool_steps = [step for step in turn_object.steps if step.step_type == \"tool_execution\"]\n",
    "    \n",
    "    for step in tool_steps:\n",
    "        for response in step.tool_responses:\n",
    "            if not response.content or not isinstance(response.content, list):\n",
    "                continue\n",
    "                \n",
    "            # Process all valid text items at once\n",
    "            text_items = [\n",
    "                item.text for item in response.content \n",
    "                if (hasattr(item, \"text\") and hasattr(item, \"type\") and \n",
    "                    item.type == \"text\" and item.text and \n",
    "                    item.text.startswith(\"Result \") and \"Content:\" in item.text)\n",
    "            ]\n",
    "            \n",
    "            # Extract content from all valid texts\n",
    "            for text in text_items:\n",
    "                match = CONTENT_PATTERN.search(text)\n",
    "                if match:\n",
    "                    retrieved_context.append(match.group(1).strip())\n",
    "\n",
    "    return retrieved_context"
   ]
  },
  {
   "cell_type": "code",
   "execution_count": 5,
   "id": "2f641460-44b1-4a4d-92c1-94e7c4468d27",
   "metadata": {},
   "outputs": [
    {
     "name": "stderr",
     "output_type": "stream",
     "text": [
      "/opt/app-root/lib64/python3.11/site-packages/tqdm/auto.py:21: TqdmWarning: IProgress not found. Please update jupyter and ipywidgets. See https://ipywidgets.readthedocs.io/en/stable/user_install.html\n",
      "  from .autonotebook import tqdm as notebook_tqdm\n",
      "INFO:datasets:PyTorch version 2.7.1 available.\n"
     ]
    },
    {
     "data": {
      "text/html": [
       "<div>\n",
       "<style scoped>\n",
       "    .dataframe tbody tr th:only-of-type {\n",
       "        vertical-align: middle;\n",
       "    }\n",
       "\n",
       "    .dataframe tbody tr th {\n",
       "        vertical-align: top;\n",
       "    }\n",
       "\n",
       "    .dataframe thead th {\n",
       "        text-align: right;\n",
       "    }\n",
       "</style>\n",
       "<table border=\"1\" class=\"dataframe\">\n",
       "  <thead>\n",
       "    <tr style=\"text-align: right;\">\n",
       "      <th></th>\n",
       "      <th>user_input</th>\n",
       "      <th>retrieved_contexts</th>\n",
       "      <th>response</th>\n",
       "      <th>reference</th>\n",
       "    </tr>\n",
       "  </thead>\n",
       "  <tbody>\n",
       "    <tr>\n",
       "      <th>0</th>\n",
       "      <td>What is gender, home country and age of Dulce ...</td>\n",
       "      <td>[1, First Name = Dulce. 1, Last Name = Abril. ...</td>\n",
       "      <td>Based on the search results, here is the infor...</td>\n",
       "      <td>\\nDulce Abril is 32 years old female from USA ...</td>\n",
       "    </tr>\n",
       "    <tr>\n",
       "      <th>1</th>\n",
       "      <td>What is customer id, company, city, country, p...</td>\n",
       "      <td>[1, Customer Id = DD37Cf93aecA6Dc. 1, First Na...</td>\n",
       "      <td>Based on the search results, here is the infor...</td>\n",
       "      <td>\\nSheryl Baxter's customer ID is DD37Cf93aecA6...</td>\n",
       "    </tr>\n",
       "  </tbody>\n",
       "</table>\n",
       "</div>"
      ],
      "text/plain": [
       "                                          user_input  \\\n",
       "0  What is gender, home country and age of Dulce ...   \n",
       "1  What is customer id, company, city, country, p...   \n",
       "\n",
       "                                  retrieved_contexts  \\\n",
       "0  [1, First Name = Dulce. 1, Last Name = Abril. ...   \n",
       "1  [1, Customer Id = DD37Cf93aecA6Dc. 1, First Na...   \n",
       "\n",
       "                                            response  \\\n",
       "0  Based on the search results, here is the infor...   \n",
       "1  Based on the search results, here is the infor...   \n",
       "\n",
       "                                           reference  \n",
       "0  \\nDulce Abril is 32 years old female from USA ...  \n",
       "1  \\nSheryl Baxter's customer ID is DD37Cf93aecA6...  "
      ]
     },
     "execution_count": 5,
     "metadata": {},
     "output_type": "execute_result"
    }
   ],
   "source": [
    "from ragas.dataset_schema import EvaluationDataset\n",
    "\n",
    "samples = []\n",
    "\n",
    "references = [\n",
    "'''\n",
    "Dulce Abril is 32 years old female from USA and Philip Gent is 36 years old man from France.\n",
    "''',\n",
    "    \n",
    "'''\n",
    "Sheryl Baxter's customer ID is DD37Cf93aecA6Dc, her company is Rasmussen Group, her city is East Leonard, her country is Chile, her phone numbers are 229.077.5154 and 397.884.0519x718, her email is zunigavanessa@smith.info, her subscription date is 2020-08-24, and her subscribed website is http://www.stephenson.com/.\n",
    "'''\n",
    "]\n",
    "\n",
    "# Constructing a Ragas EvaluationDataset\n",
    "for i, turn in enumerate(session_response.turns[:2]):\n",
    "    samples.append(\n",
    "        {\n",
    "            \"user_input\": turn.input_messages[0].content,\n",
    "            \"response\": turn.output_message.content,\n",
    "            \"reference\": references[i],\n",
    "            \"retrieved_contexts\": extract_retrieved_contexts(turn),\n",
    "        }\n",
    "    )\n",
    "\n",
    "ragas_eval_dataset = EvaluationDataset.from_list(samples)\n",
    "ragas_eval_dataset.to_pandas()"
   ]
  },
  {
   "cell_type": "markdown",
   "id": "28980191-25b1-49af-a5fb-75529677c112",
   "metadata": {},
   "source": [
    "## 4. Prerequisites for RAG evaluation"
   ]
  },
  {
   "cell_type": "code",
   "execution_count": 6,
   "id": "400868b0-8660-4483-8a1a-d69a9abff945",
   "metadata": {},
   "outputs": [
    {
     "name": "stderr",
     "output_type": "stream",
     "text": [
      "INFO:sentence_transformers.SentenceTransformer:Use pytorch device_name: cpu\n",
      "INFO:sentence_transformers.SentenceTransformer:Load pretrained SentenceTransformer: ibm-granite/granite-embedding-125m-english\n"
     ]
    },
    {
     "name": "stdout",
     "output_type": "stream",
     "text": [
      "Retrieved contexts for the first prompt: ['1, First Name = Dulce. 1, Last Name = Abril. 1, Gender = Female. 1, Country = United States. 1, Age = 32. 1, Date = 15/10/2017. 1, Id = 1562. 2, First Name = Mara. 2, Last Name = Hashimoto. 2, Gender = Female. 2, Country = Great Britain. 2, Age = 25. 2, Date = 16/08/2016. 2, Id = 1582. 3, First Name = Philip. 3, Last Name = Gent. 3, Gender = Male. 3, Country = France. 3, Age = 36. 3, Date = 21/05/2015. 3, Id = 2587. 4, First Name = Kathleen. 4, Last Name = Hanner. 4, Gender = Female. 4, Country = United States. 4, Age = 25. 4, Date = 15/10/2017. 4, Id = 3549. 5, First Name = Nereida. 5, Last Name = Magwood. 5, Gender = Female. 5, Country = United States. 5, Age = 58. 5, Date = 16/08/2016. 5, Id = 2468. 6, First Name = Gaston. 6, Last Name = Brumm. 6, Gender = Male. 6, Country = United States. 6, Age = 24. 6, Date = 21/05/2015. 6, Id = 2554. 7, First Name = Etta. 7, Last Name = Hurn. 7, Gender = Female. 7, Country = Great Britain. 7, Age = 56. 7, Date = 15/10/2017. 7, Id = 3598. 8, First Name = Earlean. 8, Last Name = Melgar. 8, Gender = Female. 8, Country = United States. 8, Age = 27. 8, Date = 16/08/2016. 8, Id = 2456. 9, First Name = Vincenza. 9, Last Name = Weiland. 9, Gender = Female. 9, Country = United States. 9, Age = 40. 9, Date = 21/05/2015. 9, Id = 6548', '1, Customer Id = DD37Cf93aecA6Dc. 1, First Name = Sheryl. 1, Last Name = Baxter. 1, Company = Rasmussen Group. 1, City = East Leonard. 1, Country = Chile. 1, Phone 1 = 229.077.5154. 1, Phone 2 = 397.884.0519x718. 1, Email = zunigavanessa@smith.info. 1, Subscription Date = 2020-08-24. 1, Website = http://www.stephenson.com/. 2, Customer Id = 1Ef7b82A4CAAD10. 2, First Name = Preston. 2, Last Name = Lozano, Dr. 2, Company = Vega-Gentry. 2, City = East Jimmychester. 2, Country = Djibouti. 2, Phone 1 = 5153435776. 2, Phone 2 = 686-620-1820x944. 2, Email = vmata@colon.com. 2, Subscription Date = 2021-04-23. 2, Website = http://www.hobbs.com/. 3, Customer Id = 6F94879bDAfE5a6. 3, First Name = Roy. 3, Last Name = Berry. 3, Company = Murillo-Perry. 3, City = Isabelborough. 3, Country = Antigua and Barbuda. 3, Phone 1 = +1-539-402-0259. 3, Phone 2 = (496)978-3969x58947. 3, Email = beckycarr@hogan.com. 3, Subscription Date = 2020-03-25. 3, Website = http://www.lawrence.com/. 4, Customer Id = 5Cef8BFA16c5e3c. 4, First Name = Linda. 4, Last Name = Olsen. 4, Company = Dominguez, Mcmillan and Donovan. 4, City = Bensonview. 4, Country = Dominican Republic. 4, Phone 1 = 001-808-617-6467x12895. 4, Phone 2 = +1-813-324-8756. 4, Email = stanleyblackwell@benson.org. 4, Subscription Date = 2020-06-02. 4, Website =', '12500. Widget C, Date = 2024-01-19. Widget C, Quantity = 6. Widget C, Revenue = 6100. Widget D, Date = 2024-01-20. Widget D, Quantity = 8. Widget D, Revenue = 8900', 'http://www.good-lyons.com/. 5, Customer Id = 053d585Ab6b3159. 5, First Name = Joanna. 5, Last Name = Bender. 5, Company = Martin, Lang and Andrade. 5, City = West Priscilla. 5, Country = Slovakia (Slovak Republic). 5, Phone 1 = 001-234-203-0635x76146. 5, Phone 2 = 001-199-446-3860x3486. 5, Email = colinalvarado@miles.net. 5, Subscription Date = 2021-04-17. 5, Website = https://goodwin-ingram.com/', 'Widget A, Date = 2024-01-01. Widget A, Quantity = 5. Widget A, Revenue = 5000. Widget B, Date = 2024-01-02. Widget B, Quantity = 10. Widget B, Revenue = 12000. Widget C, Date = 2024-01-03. Widget C, Quantity = 3. Widget C, Revenue = 3000. Widget D, Date = 2024-01-04. Widget D, Quantity = 8. Widget D, Revenue = 8000. Widget A, Date = 2024-01-05. Widget A, Quantity = 7. Widget A, Revenue = 7000. Widget B, Date = 2024-01-06. Widget B, Quantity = 6. Widget B, Revenue = 6000. Widget C, Date = 2024-01-07. Widget C, Quantity = 12. Widget C, Revenue = 15000. Widget D, Date = 2024-01-08. Widget D, Quantity = 9. Widget D, Revenue = 9000. Widget A, Date = 2024-01-09. Widget A, Quantity = 4. Widget A, Revenue = 4000. Widget B, Date = 2024-01-10. Widget B, Quantity = 11. Widget B, Revenue = 11000. Widget C, Date = 2024-01-11. Widget C, Quantity = 5. Widget C, Revenue = 5000. Widget D, Date = 2024-01-12. Widget D, Quantity = 8. Widget D, Revenue = 8500. Widget A, Date = 2024-01-13. Widget A, Quantity = 6. Widget A, Revenue = 6200. Widget B, Date = 2024-01-14. Widget B, Quantity = 7. Widget B, Revenue = 7100. Widget C, Date = 2024-01-15. Widget C, Quantity = 10. Widget C, Revenue = 10500. Widget D, Date = 2024-01-16. Widget D, Quantity = 3. Widget D, Revenue = 3200. Widget A, Date = 2024-01-17. Widget A, Quantity = 9. Widget A, Revenue = 9400. Widget B, Date = 2024-01-18. Widget B, Quantity = 12. Widget B, Revenue =']\n",
      "\n",
      "Retrieved contexts for the second prompt: ['1, Customer Id = DD37Cf93aecA6Dc. 1, First Name = Sheryl. 1, Last Name = Baxter. 1, Company = Rasmussen Group. 1, City = East Leonard. 1, Country = Chile. 1, Phone 1 = 229.077.5154. 1, Phone 2 = 397.884.0519x718. 1, Email = zunigavanessa@smith.info. 1, Subscription Date = 2020-08-24. 1, Website = http://www.stephenson.com/. 2, Customer Id = 1Ef7b82A4CAAD10. 2, First Name = Preston. 2, Last Name = Lozano, Dr. 2, Company = Vega-Gentry. 2, City = East Jimmychester. 2, Country = Djibouti. 2, Phone 1 = 5153435776. 2, Phone 2 = 686-620-1820x944. 2, Email = vmata@colon.com. 2, Subscription Date = 2021-04-23. 2, Website = http://www.hobbs.com/. 3, Customer Id = 6F94879bDAfE5a6. 3, First Name = Roy. 3, Last Name = Berry. 3, Company = Murillo-Perry. 3, City = Isabelborough. 3, Country = Antigua and Barbuda. 3, Phone 1 = +1-539-402-0259. 3, Phone 2 = (496)978-3969x58947. 3, Email = beckycarr@hogan.com. 3, Subscription Date = 2020-03-25. 3, Website = http://www.lawrence.com/. 4, Customer Id = 5Cef8BFA16c5e3c. 4, First Name = Linda. 4, Last Name = Olsen. 4, Company = Dominguez, Mcmillan and Donovan. 4, City = Bensonview. 4, Country = Dominican Republic. 4, Phone 1 = 001-808-617-6467x12895. 4, Phone 2 = +1-813-324-8756. 4, Email = stanleyblackwell@benson.org. 4, Subscription Date = 2020-06-02. 4, Website =', 'http://www.good-lyons.com/. 5, Customer Id = 053d585Ab6b3159. 5, First Name = Joanna. 5, Last Name = Bender. 5, Company = Martin, Lang and Andrade. 5, City = West Priscilla. 5, Country = Slovakia (Slovak Republic). 5, Phone 1 = 001-234-203-0635x76146. 5, Phone 2 = 001-199-446-3860x3486. 5, Email = colinalvarado@miles.net. 5, Subscription Date = 2021-04-17. 5, Website = https://goodwin-ingram.com/', '12500. Widget C, Date = 2024-01-19. Widget C, Quantity = 6. Widget C, Revenue = 6100. Widget D, Date = 2024-01-20. Widget D, Quantity = 8. Widget D, Revenue = 8900', '1, First Name = Dulce. 1, Last Name = Abril. 1, Gender = Female. 1, Country = United States. 1, Age = 32. 1, Date = 15/10/2017. 1, Id = 1562. 2, First Name = Mara. 2, Last Name = Hashimoto. 2, Gender = Female. 2, Country = Great Britain. 2, Age = 25. 2, Date = 16/08/2016. 2, Id = 1582. 3, First Name = Philip. 3, Last Name = Gent. 3, Gender = Male. 3, Country = France. 3, Age = 36. 3, Date = 21/05/2015. 3, Id = 2587. 4, First Name = Kathleen. 4, Last Name = Hanner. 4, Gender = Female. 4, Country = United States. 4, Age = 25. 4, Date = 15/10/2017. 4, Id = 3549. 5, First Name = Nereida. 5, Last Name = Magwood. 5, Gender = Female. 5, Country = United States. 5, Age = 58. 5, Date = 16/08/2016. 5, Id = 2468. 6, First Name = Gaston. 6, Last Name = Brumm. 6, Gender = Male. 6, Country = United States. 6, Age = 24. 6, Date = 21/05/2015. 6, Id = 2554. 7, First Name = Etta. 7, Last Name = Hurn. 7, Gender = Female. 7, Country = Great Britain. 7, Age = 56. 7, Date = 15/10/2017. 7, Id = 3598. 8, First Name = Earlean. 8, Last Name = Melgar. 8, Gender = Female. 8, Country = United States. 8, Age = 27. 8, Date = 16/08/2016. 8, Id = 2456. 9, First Name = Vincenza. 9, Last Name = Weiland. 9, Gender = Female. 9, Country = United States. 9, Age = 40. 9, Date = 21/05/2015. 9, Id = 6548', 'Widget A, Date = 2024-01-01. Widget A, Quantity = 5. Widget A, Revenue = 5000. Widget B, Date = 2024-01-02. Widget B, Quantity = 10. Widget B, Revenue = 12000. Widget C, Date = 2024-01-03. Widget C, Quantity = 3. Widget C, Revenue = 3000. Widget D, Date = 2024-01-04. Widget D, Quantity = 8. Widget D, Revenue = 8000. Widget A, Date = 2024-01-05. Widget A, Quantity = 7. Widget A, Revenue = 7000. Widget B, Date = 2024-01-06. Widget B, Quantity = 6. Widget B, Revenue = 6000. Widget C, Date = 2024-01-07. Widget C, Quantity = 12. Widget C, Revenue = 15000. Widget D, Date = 2024-01-08. Widget D, Quantity = 9. Widget D, Revenue = 9000. Widget A, Date = 2024-01-09. Widget A, Quantity = 4. Widget A, Revenue = 4000. Widget B, Date = 2024-01-10. Widget B, Quantity = 11. Widget B, Revenue = 11000. Widget C, Date = 2024-01-11. Widget C, Quantity = 5. Widget C, Revenue = 5000. Widget D, Date = 2024-01-12. Widget D, Quantity = 8. Widget D, Revenue = 8500. Widget A, Date = 2024-01-13. Widget A, Quantity = 6. Widget A, Revenue = 6200. Widget B, Date = 2024-01-14. Widget B, Quantity = 7. Widget B, Revenue = 7100. Widget C, Date = 2024-01-15. Widget C, Quantity = 10. Widget C, Revenue = 10500. Widget D, Date = 2024-01-16. Widget D, Quantity = 3. Widget D, Revenue = 3200. Widget A, Date = 2024-01-17. Widget A, Quantity = 9. Widget A, Revenue = 9400. Widget B, Date = 2024-01-18. Widget B, Quantity = 12. Widget B, Revenue =']\n",
      "\n"
     ]
    }
   ],
   "source": [
    "from ragas.metrics import (\n",
    "    Faithfulness, \n",
    "    ResponseRelevancy,\n",
    ") \n",
    "from ragas.dataset_schema import SingleTurnSample \n",
    "from langchain_groq import ChatGroq\n",
    "from ragas.llms import LangchainLLMWrapper\n",
    "from ragas.embeddings import LangchainEmbeddingsWrapper\n",
    "from langchain_huggingface import HuggingFaceEmbeddings\n",
    "\n",
    "llm = ChatGroq(\n",
    "    model=\"meta-llama/llama-4-maverick-17b-128e-instruct\",\n",
    "    temperature=0,\n",
    ")\n",
    "\n",
    "# Wrap the Groq LLM for use with Ragas\n",
    "evaluator_llm = LangchainLLMWrapper(llm)\n",
    "\n",
    "# Using HuggingFace embeddings as a free alternative\n",
    "embeddings_model = HuggingFaceEmbeddings(\n",
    "    model_name=\"ibm-granite/granite-embedding-125m-english\"\n",
    ")\n",
    "evaluator_embeddings = LangchainEmbeddingsWrapper(embeddings_model)\n",
    "\n",
    "\n",
    "# references for both prompts\n",
    "reference_for_first_prompt = samples[0][\"reference\"]\n",
    "reference_for_second_prompt = samples[1][\"reference\"]\n",
    "\n",
    "# inputs for both prompts\n",
    "user_input_for_first_prompt = samples[0][\"user_input\"]\n",
    "user_input_for_second_prompt = samples[1][\"user_input\"]\n",
    "\n",
    "# responses for both prompts\n",
    "response_for_first_prompt = samples[0][\"response\"]\n",
    "response_for_second_prompt = samples[1][\"response\"]\n",
    "\n",
    "# reference lists for both prompts\n",
    "reference_list_for_first_prompt = [line.strip() for line in reference_for_first_prompt.strip().split('\\n')]\n",
    "reference_list_for_second_prompt = [line.strip() for line in reference_for_second_prompt.strip().split('\\n')]\n",
    "\n",
    "# Retrieved contexts for both prompts\n",
    "retrieved_contexts_for_first_prompt = samples[0][\"retrieved_contexts\"]\n",
    "retrieved_contexts_for_second_prompt = samples[1][\"retrieved_contexts\"]\n",
    "\n",
    "print(f\"Retrieved contexts for the first prompt: {retrieved_contexts_for_first_prompt}\\n\")\n",
    "print(f\"Retrieved contexts for the second prompt: {retrieved_contexts_for_second_prompt}\\n\")"
   ]
  },
  {
   "cell_type": "markdown",
   "id": "20b77302-41bc-4071-9d6d-a16f72b9dfd8",
   "metadata": {},
   "source": [
    "## 5. Evaluate Faithfulness Score for both prompts"
   ]
  },
  {
   "cell_type": "code",
   "execution_count": 7,
   "id": "a634b14e-b1ce-48a2-8272-f008c5c6ffaf",
   "metadata": {},
   "outputs": [
    {
     "name": "stderr",
     "output_type": "stream",
     "text": [
      "INFO:httpx:HTTP Request: POST https://api.groq.com/openai/v1/chat/completions \"HTTP/1.1 200 OK\"\n",
      "INFO:httpx:HTTP Request: POST https://api.groq.com/openai/v1/chat/completions \"HTTP/1.1 200 OK\"\n"
     ]
    },
    {
     "name": "stdout",
     "output_type": "stream",
     "text": [
      "Faithfulness score for prompt 'What is gender, home country and age of Dulce Abril and Philip Gent?': 1.0\n"
     ]
    }
   ],
   "source": [
    "first_prompt_turn = SingleTurnSample(\n",
    "        user_input=user_input_for_first_prompt,\n",
    "        response=response_for_first_prompt,\n",
    "        retrieved_contexts=retrieved_contexts_for_first_prompt,\n",
    "    )\n",
    "faithfulness_scorer = Faithfulness(llm=evaluator_llm)\n",
    "faithfulness_score_for_first_prompt = await faithfulness_scorer.single_turn_ascore(first_prompt_turn)\n",
    "print(f\"Faithfulness score for prompt '{user_prompts[0]}': {faithfulness_score_for_first_prompt}\")"
   ]
  },
  {
   "cell_type": "code",
   "execution_count": 8,
   "id": "5371bc90-8a61-4ae5-9656-e9ab885fa656",
   "metadata": {},
   "outputs": [
    {
     "name": "stderr",
     "output_type": "stream",
     "text": [
      "INFO:httpx:HTTP Request: POST https://api.groq.com/openai/v1/chat/completions \"HTTP/1.1 200 OK\"\n",
      "INFO:httpx:HTTP Request: POST https://api.groq.com/openai/v1/chat/completions \"HTTP/1.1 429 Too Many Requests\"\n",
      "INFO:groq._base_client:Retrying request to /openai/v1/chat/completions in 7.000000 seconds\n",
      "INFO:httpx:HTTP Request: POST https://api.groq.com/openai/v1/chat/completions \"HTTP/1.1 200 OK\"\n"
     ]
    },
    {
     "name": "stdout",
     "output_type": "stream",
     "text": [
      "Faithfulness score for prompt 'What is customer id, company, city, country, phone number, email, subscription date, subscribed website of of Sheryl Baxter?': 0.9166666666666666\n"
     ]
    }
   ],
   "source": [
    "second_prompt_turn = SingleTurnSample(\n",
    "        user_input=user_input_for_second_prompt,\n",
    "        response=response_for_second_prompt,\n",
    "        retrieved_contexts=retrieved_contexts_for_second_prompt,\n",
    "    )\n",
    "faithfulness_score_for_second_prompt = await faithfulness_scorer.single_turn_ascore(second_prompt_turn)\n",
    "print(f\"Faithfulness score for prompt '{user_prompts[1]}': {faithfulness_score_for_second_prompt}\")"
   ]
  },
  {
   "cell_type": "markdown",
   "id": "677f8846-2e8f-40a2-9d57-a182f4dadc0b",
   "metadata": {},
   "source": [
    "## 6. Evaluate Response Relevancy for both prompts"
   ]
  },
  {
   "cell_type": "code",
   "execution_count": 9,
   "id": "9688d6a3-3ae2-4a18-bfdf-e2d3bb75134e",
   "metadata": {},
   "outputs": [
    {
     "name": "stderr",
     "output_type": "stream",
     "text": [
      "INFO:httpx:HTTP Request: POST https://api.groq.com/openai/v1/chat/completions \"HTTP/1.1 200 OK\"\n",
      "INFO:httpx:HTTP Request: POST https://api.groq.com/openai/v1/chat/completions \"HTTP/1.1 200 OK\"\n",
      "INFO:httpx:HTTP Request: POST https://api.groq.com/openai/v1/chat/completions \"HTTP/1.1 200 OK\"\n"
     ]
    },
    {
     "name": "stdout",
     "output_type": "stream",
     "text": [
      "Response Relevancy score for prompt 'What is gender, home country and age of Dulce Abril and Philip Gent?': 0.9849353950326382\n"
     ]
    }
   ],
   "source": [
    "first_prompt_turn = SingleTurnSample(\n",
    "        user_input=user_input_for_first_prompt,\n",
    "        response=response_for_first_prompt,\n",
    "        retrieved_contexts=retrieved_contexts_for_first_prompt,\n",
    "    )\n",
    "response_relevancy_scorer = ResponseRelevancy(llm=evaluator_llm, embeddings=evaluator_embeddings)\n",
    "response_relevancy_score_for_first_prompt = await response_relevancy_scorer.single_turn_ascore(first_prompt_turn)\n",
    "print(f\"Response Relevancy score for prompt '{user_prompts[0]}': {response_relevancy_score_for_first_prompt}\")"
   ]
  },
  {
   "cell_type": "code",
   "execution_count": 10,
   "id": "de0eae0d-65c2-48eb-820b-792c2dcd0183",
   "metadata": {},
   "outputs": [
    {
     "name": "stderr",
     "output_type": "stream",
     "text": [
      "INFO:httpx:HTTP Request: POST https://api.groq.com/openai/v1/chat/completions \"HTTP/1.1 200 OK\"\n",
      "INFO:httpx:HTTP Request: POST https://api.groq.com/openai/v1/chat/completions \"HTTP/1.1 200 OK\"\n",
      "INFO:httpx:HTTP Request: POST https://api.groq.com/openai/v1/chat/completions \"HTTP/1.1 200 OK\"\n"
     ]
    },
    {
     "name": "stdout",
     "output_type": "stream",
     "text": [
      "Response Relevancy score for prompt 'What is customer id, company, city, country, phone number, email, subscription date, subscribed website of of Sheryl Baxter?': 0.9287016272341538\n"
     ]
    }
   ],
   "source": [
    "second_prompt_turn = SingleTurnSample(\n",
    "        user_input=user_input_for_second_prompt,\n",
    "        response=response_for_second_prompt,\n",
    "        retrieved_contexts=retrieved_contexts_for_second_prompt,\n",
    "    )\n",
    "response_relevancy_score_for_second_prompt = await response_relevancy_scorer.single_turn_ascore(second_prompt_turn)\n",
    "print(f\"Response Relevancy score for prompt '{user_prompts[1]}': {response_relevancy_score_for_second_prompt}\")"
   ]
  }
 ],
 "metadata": {
  "kernelspec": {
   "display_name": "Python 3.11",
   "language": "python",
   "name": "python3"
  },
  "language_info": {
   "codemirror_mode": {
    "name": "ipython",
    "version": 3
   },
   "file_extension": ".py",
   "mimetype": "text/x-python",
   "name": "python",
   "nbconvert_exporter": "python",
   "pygments_lexer": "ipython3",
   "version": "3.11.11"
  }
 },
 "nbformat": 4,
 "nbformat_minor": 5
}
