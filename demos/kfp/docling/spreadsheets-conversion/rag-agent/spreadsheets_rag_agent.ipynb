{
 "cells": [
  {
   "cell_type": "markdown",
   "id": "8531c96a-a364-472b-a2ad-ba52283b3d6e",
   "metadata": {},
   "source": [
    "## 1. Create Llama Stack client, list available models and vector databases"
   ]
  },
  {
   "cell_type": "code",
   "execution_count": 37,
   "id": "08984570-32ab-4e01-8c02-5917ab8da984",
   "metadata": {},
   "outputs": [
    {
     "name": "stderr",
     "output_type": "stream",
     "text": [
      "INFO:httpx:HTTP Request: GET http://lsd-llama-milvus-service:8321/v1/models \"HTTP/1.1 200 OK\"\n",
      "INFO:httpx:HTTP Request: GET http://lsd-llama-milvus-service:8321/v1/vector-dbs \"HTTP/1.1 200 OK\"\n"
     ]
    },
    {
     "name": "stdout",
     "output_type": "stream",
     "text": [
      "Models information: [Model(identifier='vllm', metadata={}, api_model_type='llm', provider_id='vllm-inference', type='model', provider_resource_id='vllm', model_type='llm'), Model(identifier='granite-embedding-125m', metadata={'embedding_dimension': 768.0}, api_model_type='embedding', provider_id='sentence-transformers', type='model', provider_resource_id='ibm-granite/granite-embedding-125m-english', model_type='embedding')]\n",
      "\n",
      "Identifier for Inference model in usage: vllm\n",
      "\n",
      "=== Available Vector Databases ===\n",
      "- ID: csv-vector-db\n",
      "  Provider: milvus\n",
      "  Embedding Model: granite-embedding-125m\n",
      "\n"
     ]
    }
   ],
   "source": [
    "from llama_stack_client import LlamaStackClient\n",
    "client = LlamaStackClient(base_url=\"http://lsd-llama-milvus-service:8321\")\n",
    "\n",
    "models = client.models.list()\n",
    "print(f\"Models information: {models}\\n\")\n",
    "\n",
    "inference_llm = next((model.identifier for model in models if model.model_type == 'llm'), None)\n",
    "print(f\"Identifier for Inference model in usage: {inference_llm}\\n\")\n",
    "\n",
    "# Check what vector databases exist\n",
    "print(\"=== Available Vector Databases ===\")\n",
    "vector_dbs = client.vector_dbs.list()\n",
    "if vector_dbs:\n",
    "    for vdb in vector_dbs:\n",
    "        print(f\"- ID: {vdb.identifier}\")\n",
    "        print(f\"  Provider: {vdb.provider_id}\")\n",
    "        print(f\"  Embedding Model: {vdb.embedding_model}\")\n",
    "        print()\n",
    "else:\n",
    "    print(\"No vector databases found!\")"
   ]
  },
  {
   "cell_type": "markdown",
   "id": "2c321c18-75ce-4afe-a347-4571f9e08b42",
   "metadata": {},
   "source": [
    "## 2. Create RAG Agent and prompt the LLM\n",
    "Prompt the LLM with questions in relation to the documents inserted, and see it return accurate answers."
   ]
  },
  {
   "cell_type": "code",
   "execution_count": 38,
   "id": "bfd2df1d-dca1-42d7-b249-45a2491c9c04",
   "metadata": {},
   "outputs": [
    {
     "name": "stderr",
     "output_type": "stream",
     "text": [
      "INFO:httpx:HTTP Request: POST http://lsd-llama-milvus-service:8321/v1/agents \"HTTP/1.1 200 OK\"\n",
      "INFO:httpx:HTTP Request: GET http://lsd-llama-milvus-service:8321/v1/tools?toolgroup_id=builtin%3A%3Arag%2Fknowledge_search \"HTTP/1.1 200 OK\"\n",
      "INFO:httpx:HTTP Request: POST http://lsd-llama-milvus-service:8321/v1/agents/ab396f74-efc7-4503-bacd-9c3361fe6243/session \"HTTP/1.1 200 OK\"\n",
      "INFO:httpx:HTTP Request: POST http://lsd-llama-milvus-service:8321/v1/agents/ab396f74-efc7-4503-bacd-9c3361fe6243/session/775fcedc-81b7-4360-be76-7e209f301365/turn \"HTTP/1.1 200 OK\"\n"
     ]
    },
    {
     "name": "stdout",
     "output_type": "stream",
     "text": [
      "prompt> What is gender, country and age of Dulce Abril and Philip Gent?\n",
      "\u001b[33minference> \u001b[0m\u001b[33m\u001b[0m\u001b[97m\u001b[0m\n",
      "\u001b[32mtool_execution> Tool:knowledge_search Args:{'query': 'Dulce Abril and Philip Gent gender, country, age'}\u001b[0m\n",
      "\u001b[32mtool_execution> Tool:knowledge_search Response:[TextContentItem(text='knowledge_search tool found 5 chunks:\\nBEGIN of knowledge_search tool results.\\n', type='text'), TextContentItem(text=\"Result 1\\nContent: 1, First Name = Dulce. 1, Last Name = Abril. 1, Gender = Female. 1, Country = United States. 1, Age = 32. 1, Date = 15/10/2017. 1, Id = 1562. 2, First Name = Mara. 2, Last Name = Hashimoto. 2, Gender = Female. 2, Country = Great Britain. 2, Age = 25. 2, Date = 16/08/2016. 2, Id = 1582. 3, First Name = Philip. 3, Last Name = Gent. 3, Gender = Male. 3, Country = France. 3, Age = 36. 3, Date = 21/05/2015. 3, Id = 2587. 4, First Name = Kathleen. 4, Last Name = Hanner. 4, Gender = Female. 4, Country = United States. 4, Age = 25. 4, Date = 15/10/2017. 4, Id = 3549. 5, First Name = Nereida. 5, Last Name = Magwood. 5, Gender = Female. 5, Country = United States. 5, Age = 58. 5, Date = 16/08/2016. 5, Id = 2468. 6, First Name = Gaston. 6, Last Name = Brumm. 6, Gender = Male. 6, Country = United States. 6, Age = 24. 6, Date = 21/05/2015. 6, Id = 2554. 7, First Name = Etta. 7, Last Name = Hurn. 7, Gender = Female. 7, Country = Great Britain. 7, Age = 56. 7, Date = 15/10/2017. 7, Id = 3598. 8, First Name = Earlean. 8, Last Name = Melgar. 8, Gender = Female. 8, Country = United States. 8, Age = 27. 8, Date = 16/08/2016. 8, Id = 2456. 9, First Name = Vincenza. 9, Last Name = Weiland. 9, Gender = Female. 9, Country = United States. 9, Age = 40. 9, Date = 21/05/2015. 9, Id = 6548\\nMetadata: {'file_name': 'people_Sheet1', 'document_id': 'fd54e524-3421-411e-b715-42074c8caf90'}\\n\", type='text'), TextContentItem(text=\"Result 2\\nContent: 1, First Name = Dulce. 1, Last Name = Abril. 1, Gender = Female. 1, Country = United States. 1, Age = 32. 1, Date = 15/10/2017. 1, Id = 1562. 2, First Name = Mara. 2, Last Name = Hashimoto. 2, Gender = Female. 2, Country = Great Britain. 2, Age = 25. 2, Date = 16/08/2016. 2, Id = 1582. 3, First Name = Philip. 3, Last Name = Gent. 3, Gender = Male. 3, Country = France. 3, Age = 36. 3, Date = 21/05/2015. 3, Id = 2587. 4, First Name = Kathleen. 4, Last Name = Hanner. 4, Gender = Female. 4, Country = United States. 4, Age = 25. 4, Date = 15/10/2017. 4, Id = 3549. 5, First Name = Nereida. 5, Last Name = Magwood. 5, Gender = Female. 5, Country = United States. 5, Age = 58. 5, Date = 16/08/2016. 5, Id = 2468. 6, First Name = Gaston. 6, Last Name = Brumm. 6, Gender = Male. 6, Country = United States. 6, Age = 24. 6, Date = 21/05/2015. 6, Id = 2554. 7, First Name = Etta. 7, Last Name = Hurn. 7, Gender = Female. 7, Country = Great Britain. 7, Age = 56. 7, Date = 15/10/2017. 7, Id = 3598. 8, First Name = Earlean. 8, Last Name = Melgar. 8, Gender = Female. 8, Country = United States. 8, Age = 27. 8, Date = 16/08/2016. 8, Id = 2456. 9, First Name = Vincenza. 9, Last Name = Weiland. 9, Gender = Female. 9, Country = United States. 9, Age = 40. 9, Date = 21/05/2015. 9, Id = 6548\\nMetadata: {'file_name': 'people_Sheet1', 'document_id': 'a1f2441e-fd75-4b76-9937-194613aaac70'}\\n\", type='text'), TextContentItem(text=\"Result 3\\nContent: 1, First Name = Dulce. 1, Last Name = Abril. 1, Gender = Female. 1, Country = United States. 1, Age = 32. 1, Date = 15/10/2017. 1, Id = 1562. 2, First Name = Mara. 2, Last Name = Hashimoto. 2, Gender = Female. 2, Country = Great Britain. 2, Age = 25. 2, Date = 16/08/2016. 2, Id = 1582. 3, First Name = Philip. 3, Last Name = Gent. 3, Gender = Male. 3, Country = France. 3, Age = 36. 3, Date = 21/05/2015. 3, Id = 2587. 4, First Name = Kathleen. 4, Last Name = Hanner. 4, Gender = Female. 4, Country = United States. 4, Age = 25. 4, Date = 15/10/2017. 4, Id = 3549. 5, First Name = Nereida. 5, Last Name = Magwood. 5, Gender = Female. 5, Country = United States. 5, Age = 58. 5, Date = 16/08/2016. 5, Id = 2468. 6, First Name = Gaston. 6, Last Name = Brumm. 6, Gender = Male. 6, Country = United States. 6, Age = 24. 6, Date = 21/05/2015. 6, Id = 2554. 7, First Name = Etta. 7, Last Name = Hurn. 7, Gender = Female. 7, Country = Great Britain. 7, Age = 56. 7, Date = 15/10/2017. 7, Id = 3598. 8, First Name = Earlean. 8, Last Name = Melgar. 8, Gender = Female. 8, Country = United States. 8, Age = 27. 8, Date = 16/08/2016. 8, Id = 2456. 9, First Name = Vincenza. 9, Last Name = Weiland. 9, Gender = Female. 9, Country = United States. 9, Age = 40. 9, Date = 21/05/2015. 9, Id = 6548\\nMetadata: {'file_name': 'people_Sheet1', 'document_id': 'c7330d32-9b33-42ca-8fcc-d7750d086bfb'}\\n\", type='text'), TextContentItem(text=\"Result 4\\nContent: 1, First Name = Dulce. 1, Last Name = Abril. 1, Gender = Female. 1, Country = United States. 1, Age = 32. 1, Date = 15/10/2017. 1, Id = 1562. 2, First Name = Mara. 2, Last Name = Hashimoto. 2, Gender = Female. 2, Country = Great Britain. 2, Age = 25. 2, Date = 16/08/2016. 2, Id = 1582. 3, First Name = Philip. 3, Last Name = Gent. 3, Gender = Male. 3, Country = France. 3, Age = 36. 3, Date = 21/05/2015. 3, Id = 2587. 4, First Name = Kathleen. 4, Last Name = Hanner. 4, Gender = Female. 4, Country = United States. 4, Age = 25. 4, Date = 15/10/2017. 4, Id = 3549. 5, First Name = Nereida. 5, Last Name = Magwood. 5, Gender = Female. 5, Country = United States. 5, Age = 58. 5, Date = 16/08/2016. 5, Id = 2468. 6, First Name = Gaston. 6, Last Name = Brumm. 6, Gender = Male. 6, Country = United States. 6, Age = 24. 6, Date = 21/05/2015. 6, Id = 2554. 7, First Name = Etta. 7, Last Name = Hurn. 7, Gender = Female. 7, Country = Great Britain. 7, Age = 56. 7, Date = 15/10/2017. 7, Id = 3598. 8, First Name = Earlean. 8, Last Name = Melgar. 8, Gender = Female. 8, Country = United States. 8, Age = 27. 8, Date = 16/08/2016. 8, Id = 2456. 9, First Name = Vincenza. 9, Last Name = Weiland. 9, Gender = Female. 9, Country = United States. 9, Age = 40. 9, Date = 21/05/2015. 9, Id = 6548\\nMetadata: {'file_name': 'people_Sheet1', 'document_id': '86aeee6f-d82f-4568-a32b-4694e1c07d41'}\\n\", type='text'), TextContentItem(text=\"Result 5\\nContent: 1, First Name = Dulce. 1, Last Name = Abril. 1, Gender = Female. 1, Country = United States. 1, Age = 32. 1, Date = 15/10/2017. 1, Id = 1562. 2, First Name = Mara. 2, Last Name = Hashimoto. 2, Gender = Female. 2, Country = Great Britain. 2, Age = 25. 2, Date = 16/08/2016. 2, Id = 1582. 3, First Name = Philip. 3, Last Name = Gent. 3, Gender = Male. 3, Country = France. 3, Age = 36. 3, Date = 21/05/2015. 3, Id = 2587. 4, First Name = Kathleen. 4, Last Name = Hanner. 4, Gender = Female. 4, Country = United States. 4, Age = 25. 4, Date = 15/10/2017. 4, Id = 3549. 5, First Name = Nereida. 5, Last Name = Magwood. 5, Gender = Female. 5, Country = United States. 5, Age = 58. 5, Date = 16/08/2016. 5, Id = 2468. 6, First Name = Gaston. 6, Last Name = Brumm. 6, Gender = Male. 6, Country = United States. 6, Age = 24. 6, Date = 21/05/2015. 6, Id = 2554. 7, First Name = Etta. 7, Last Name = Hurn. 7, Gender = Female. 7, Country = Great Britain. 7, Age = 56. 7, Date = 15/10/2017. 7, Id = 3598. 8, First Name = Earlean. 8, Last Name = Melgar. 8, Gender = Female. 8, Country = United States. 8, Age = 27. 8, Date = 16/08/2016. 8, Id = 2456. 9, First Name = Vincenza. 9, Last Name = Weiland. 9, Gender = Female. 9, Country = United States. 9, Age = 40. 9, Date = 21/05/2015. 9, Id = 6548\\nMetadata: {'file_name': 'people_Sheet1', 'document_id': '89ce6a93-3146-4ed4-94d2-d6f9090dbb19'}\\n\", type='text'), TextContentItem(text='END of knowledge_search tool results.\\n', type='text'), TextContentItem(text='The above results were retrieved to help answer the user\\'s query: \"Dulce Abril and Philip Gent gender, country, age\". Use them as supporting information only in answering this query.\\n', type='text')]\u001b[0m\n",
      "\u001b[33minference> \u001b[0m\u001b[33m\u001b[0m\u001b[33mBased\u001b[0m\u001b[33m on\u001b[0m\u001b[33m the\u001b[0m\u001b[33m search\u001b[0m\u001b[33m results\u001b[0m\u001b[33m,\u001b[0m\u001b[33m Dul\u001b[0m\u001b[33mce\u001b[0m\u001b[33m Abr\u001b[0m\u001b[33mil\u001b[0m\u001b[33m is\u001b[0m\u001b[33m a\u001b[0m\u001b[33m \u001b[0m\u001b[33m32\u001b[0m\u001b[33m-year\u001b[0m\u001b[33m-old\u001b[0m\u001b[33m female\u001b[0m\u001b[33m from\u001b[0m\u001b[33m the\u001b[0m\u001b[33m United\u001b[0m\u001b[33m States\u001b[0m\u001b[33m,\u001b[0m\u001b[33m and\u001b[0m\u001b[33m Philip\u001b[0m\u001b[33m Gent\u001b[0m\u001b[33m is\u001b[0m\u001b[33m a\u001b[0m\u001b[33m \u001b[0m\u001b[33m36\u001b[0m\u001b[33m-year\u001b[0m\u001b[33m-old\u001b[0m\u001b[33m male\u001b[0m\u001b[33m from\u001b[0m\u001b[33m France\u001b[0m\u001b[33m.\u001b[0m\u001b[97m\u001b[0m\n",
      "\u001b[30m\u001b[0m"
     ]
    },
    {
     "name": "stderr",
     "output_type": "stream",
     "text": [
      "INFO:httpx:HTTP Request: POST http://lsd-llama-milvus-service:8321/v1/agents/ab396f74-efc7-4503-bacd-9c3361fe6243/session/775fcedc-81b7-4360-be76-7e209f301365/turn \"HTTP/1.1 200 OK\"\n"
     ]
    },
    {
     "name": "stdout",
     "output_type": "stream",
     "text": [
      "prompt> What is customer id, company, city, country, phone number, email, subscription date, subscribed website of of Sheryl Baxter?\n",
      "\u001b[33minference> \u001b[0m\u001b[33m\u001b[0m\u001b[97m\u001b[0m\n",
      "\u001b[32mtool_execution> Tool:knowledge_search Args:{'query': 'Sheryl Baxter customer id, company, city, country, phone number, email, subscription date, subscribed website'}\u001b[0m\n",
      "\u001b[32mtool_execution> Tool:knowledge_search Response:[TextContentItem(text='knowledge_search tool found 5 chunks:\\nBEGIN of knowledge_search tool results.\\n', type='text'), TextContentItem(text=\"Result 1\\nContent: 1, Customer Id = DD37Cf93aecA6Dc. 1, First Name = Sheryl. 1, Last Name = Baxter. 1, Company = Rasmussen Group. 1, City = East Leonard. 1, Country = Chile. 1, Phone 1 = 229.077.5154. 1, Phone 2 = 397.884.0519x718. 1, Email = zunigavanessa@smith.info. 1, Subscription Date = 2020-08-24. 1, Website = http://www.stephenson.com/. 2, Customer Id = 1Ef7b82A4CAAD10. 2, First Name = Preston. 2, Last Name = Lozano, Dr. 2, Company = Vega-Gentry. 2, City = East Jimmychester. 2, Country = Djibouti. 2, Phone 1 = 5153435776. 2, Phone 2 = 686-620-1820x944. 2, Email = vmata@colon.com. 2, Subscription Date = 2021-04-23. 2, Website = http://www.hobbs.com/. 3, Customer Id = 6F94879bDAfE5a6. 3, First Name = Roy. 3, Last Name = Berry. 3, Company = Murillo-Perry. 3, City = Isabelborough. 3, Country = Antigua and Barbuda. 3, Phone 1 = +1-539-402-0259. 3, Phone 2 = (496)978-3969x58947. 3, Email = beckycarr@hogan.com. 3, Subscription Date = 2020-03-25. 3, Website = http://www.lawrence.com/. 4, Customer Id = 5Cef8BFA16c5e3c. 4, First Name = Linda. 4, Last Name = Olsen. 4, Company = Dominguez, Mcmillan and Donovan. 4, City = Bensonview. 4, Country = Dominican Republic. 4, Phone 1 = 001-808-617-6467x12895. 4, Phone 2 = +1-813-324-8756. 4, Email = stanleyblackwell@benson.org. 4, Subscription Date = 2020-06-02. 4, Website =\\nMetadata: {'file_name': 'test_customers', 'document_id': '02952136-8c35-4a93-803f-66b1ad5ae94a'}\\n\", type='text'), TextContentItem(text=\"Result 2\\nContent: 1, Customer Id = DD37Cf93aecA6Dc. 1, First Name = Sheryl. 1, Last Name = Baxter. 1, Company = Rasmussen Group. 1, City = East Leonard. 1, Country = Chile. 1, Phone 1 = 229.077.5154. 1, Phone 2 = 397.884.0519x718. 1, Email = zunigavanessa@smith.info. 1, Subscription Date = 2020-08-24. 1, Website = http://www.stephenson.com/. 2, Customer Id = 1Ef7b82A4CAAD10. 2, First Name = Preston. 2, Last Name = Lozano, Dr. 2, Company = Vega-Gentry. 2, City = East Jimmychester. 2, Country = Djibouti. 2, Phone 1 = 5153435776. 2, Phone 2 = 686-620-1820x944. 2, Email = vmata@colon.com. 2, Subscription Date = 2021-04-23. 2, Website = http://www.hobbs.com/. 3, Customer Id = 6F94879bDAfE5a6. 3, First Name = Roy. 3, Last Name = Berry. 3, Company = Murillo-Perry. 3, City = Isabelborough. 3, Country = Antigua and Barbuda. 3, Phone 1 = +1-539-402-0259. 3, Phone 2 = (496)978-3969x58947. 3, Email = beckycarr@hogan.com. 3, Subscription Date = 2020-03-25. 3, Website = http://www.lawrence.com/. 4, Customer Id = 5Cef8BFA16c5e3c. 4, First Name = Linda. 4, Last Name = Olsen. 4, Company = Dominguez, Mcmillan and Donovan. 4, City = Bensonview. 4, Country = Dominican Republic. 4, Phone 1 = 001-808-617-6467x12895. 4, Phone 2 = +1-813-324-8756. 4, Email = stanleyblackwell@benson.org. 4, Subscription Date = 2020-06-02. 4, Website =\\nMetadata: {'file_name': 'test_customers', 'document_id': '6c92a8d6-dbb1-4f84-82a9-1efeb53e090b'}\\n\", type='text'), TextContentItem(text=\"Result 3\\nContent: 1, Customer Id = DD37Cf93aecA6Dc. 1, First Name = Sheryl. 1, Last Name = Baxter. 1, Company = Rasmussen Group. 1, City = East Leonard. 1, Country = Chile. 1, Phone 1 = 229.077.5154. 1, Phone 2 = 397.884.0519x718. 1, Email = zunigavanessa@smith.info. 1, Subscription Date = 2020-08-24. 1, Website = http://www.stephenson.com/. 2, Customer Id = 1Ef7b82A4CAAD10. 2, First Name = Preston. 2, Last Name = Lozano, Dr. 2, Company = Vega-Gentry. 2, City = East Jimmychester. 2, Country = Djibouti. 2, Phone 1 = 5153435776. 2, Phone 2 = 686-620-1820x944. 2, Email = vmata@colon.com. 2, Subscription Date = 2021-04-23. 2, Website = http://www.hobbs.com/. 3, Customer Id = 6F94879bDAfE5a6. 3, First Name = Roy. 3, Last Name = Berry. 3, Company = Murillo-Perry. 3, City = Isabelborough. 3, Country = Antigua and Barbuda. 3, Phone 1 = +1-539-402-0259. 3, Phone 2 = (496)978-3969x58947. 3, Email = beckycarr@hogan.com. 3, Subscription Date = 2020-03-25. 3, Website = http://www.lawrence.com/. 4, Customer Id = 5Cef8BFA16c5e3c. 4, First Name = Linda. 4, Last Name = Olsen. 4, Company = Dominguez, Mcmillan and Donovan. 4, City = Bensonview. 4, Country = Dominican Republic. 4, Phone 1 = 001-808-617-6467x12895. 4, Phone 2 = +1-813-324-8756. 4, Email = stanleyblackwell@benson.org. 4, Subscription Date = 2020-06-02. 4, Website =\\nMetadata: {'file_name': 'test_customers', 'document_id': 'eb6d694e-1644-4a35-b790-0de76ca74884'}\\n\", type='text'), TextContentItem(text=\"Result 4\\nContent: 1, Customer Id = DD37Cf93aecA6Dc. 1, First Name = Sheryl. 1, Last Name = Baxter. 1, Company = Rasmussen Group. 1, City = East Leonard. 1, Country = Chile. 1, Phone 1 = 229.077.5154. 1, Phone 2 = 397.884.0519x718. 1, Email = zunigavanessa@smith.info. 1, Subscription Date = 2020-08-24. 1, Website = http://www.stephenson.com/. 2, Customer Id = 1Ef7b82A4CAAD10. 2, First Name = Preston. 2, Last Name = Lozano, Dr. 2, Company = Vega-Gentry. 2, City = East Jimmychester. 2, Country = Djibouti. 2, Phone 1 = 5153435776. 2, Phone 2 = 686-620-1820x944. 2, Email = vmata@colon.com. 2, Subscription Date = 2021-04-23. 2, Website = http://www.hobbs.com/. 3, Customer Id = 6F94879bDAfE5a6. 3, First Name = Roy. 3, Last Name = Berry. 3, Company = Murillo-Perry. 3, City = Isabelborough. 3, Country = Antigua and Barbuda. 3, Phone 1 = +1-539-402-0259. 3, Phone 2 = (496)978-3969x58947. 3, Email = beckycarr@hogan.com. 3, Subscription Date = 2020-03-25. 3, Website = http://www.lawrence.com/. 4, Customer Id = 5Cef8BFA16c5e3c. 4, First Name = Linda. 4, Last Name = Olsen. 4, Company = Dominguez, Mcmillan and Donovan. 4, City = Bensonview. 4, Country = Dominican Republic. 4, Phone 1 = 001-808-617-6467x12895. 4, Phone 2 = +1-813-324-8756. 4, Email = stanleyblackwell@benson.org. 4, Subscription Date = 2020-06-02. 4, Website =\\nMetadata: {'file_name': 'test_customers', 'document_id': 'e55470e2-d45f-48d2-b86d-f16d1f531709'}\\n\", type='text'), TextContentItem(text=\"Result 5\\nContent: http://www.good-lyons.com/. 5, Customer Id = 053d585Ab6b3159. 5, First Name = Joanna. 5, Last Name = Bender. 5, Company = Martin, Lang and Andrade. 5, City = West Priscilla. 5, Country = Slovakia (Slovak Republic). 5, Phone 1 = 001-234-203-0635x76146. 5, Phone 2 = 001-199-446-3860x3486. 5, Email = colinalvarado@miles.net. 5, Subscription Date = 2021-04-17. 5, Website = https://goodwin-ingram.com/\\nMetadata: {'file_name': 'test_customers', 'document_id': '2d162044-0b8e-459a-82bb-6ce1fcb57ae4'}\\n\", type='text'), TextContentItem(text='END of knowledge_search tool results.\\n', type='text'), TextContentItem(text='The above results were retrieved to help answer the user\\'s query: \"Sheryl Baxter customer id, company, city, country, phone number, email, subscription date, subscribed website\". Use them as supporting information only in answering this query.\\n', type='text')]\u001b[0m\n",
      "\u001b[33minference> \u001b[0m\u001b[33m\u001b[0m\u001b[33mBased\u001b[0m\u001b[33m on\u001b[0m\u001b[33m the\u001b[0m\u001b[33m search\u001b[0m\u001b[33m results\u001b[0m\u001b[33m,\u001b[0m\u001b[33m Sh\u001b[0m\u001b[33meryl\u001b[0m\u001b[33m Baxter\u001b[0m\u001b[33m's\u001b[0m\u001b[33m customer\u001b[0m\u001b[33m ID\u001b[0m\u001b[33m is\u001b[0m\u001b[33m DD\u001b[0m\u001b[33m37\u001b[0m\u001b[33mC\u001b[0m\u001b[33mf\u001b[0m\u001b[33m93\u001b[0m\u001b[33maec\u001b[0m\u001b[33mA\u001b[0m\u001b[33m6\u001b[0m\u001b[33mD\u001b[0m\u001b[33mc\u001b[0m\u001b[33m,\u001b[0m\u001b[33m her\u001b[0m\u001b[33m company\u001b[0m\u001b[33m is\u001b[0m\u001b[33m R\u001b[0m\u001b[33masm\u001b[0m\u001b[33mussen\u001b[0m\u001b[33m Group\u001b[0m\u001b[33m,\u001b[0m\u001b[33m her\u001b[0m\u001b[33m city\u001b[0m\u001b[33m is\u001b[0m\u001b[33m East\u001b[0m\u001b[33m Leonard\u001b[0m\u001b[33m,\u001b[0m\u001b[33m her\u001b[0m\u001b[33m country\u001b[0m\u001b[33m is\u001b[0m\u001b[33m Chile\u001b[0m\u001b[33m,\u001b[0m\u001b[33m her\u001b[0m\u001b[33m phone\u001b[0m\u001b[33m numbers\u001b[0m\u001b[33m are\u001b[0m\u001b[33m \u001b[0m\u001b[33m229\u001b[0m\u001b[33m.\u001b[0m\u001b[33m077\u001b[0m\u001b[33m.\u001b[0m\u001b[33m515\u001b[0m\u001b[33m4\u001b[0m\u001b[33m and\u001b[0m\u001b[33m \u001b[0m\u001b[33m397\u001b[0m\u001b[33m.\u001b[0m\u001b[33m884\u001b[0m\u001b[33m.\u001b[0m\u001b[33m051\u001b[0m\u001b[33m9\u001b[0m\u001b[33mx\u001b[0m\u001b[33m718\u001b[0m\u001b[33m,\u001b[0m\u001b[33m her\u001b[0m\u001b[33m email\u001b[0m\u001b[33m is\u001b[0m\u001b[33m zun\u001b[0m\u001b[33mig\u001b[0m\u001b[33mavan\u001b[0m\u001b[33messa\u001b[0m\u001b[33m@\u001b[0m\u001b[33msmith\u001b[0m\u001b[33m.info\u001b[0m\u001b[33m,\u001b[0m\u001b[33m her\u001b[0m\u001b[33m subscription\u001b[0m\u001b[33m date\u001b[0m\u001b[33m is\u001b[0m\u001b[33m \u001b[0m\u001b[33m202\u001b[0m\u001b[33m0\u001b[0m\u001b[33m-\u001b[0m\u001b[33m08\u001b[0m\u001b[33m-\u001b[0m\u001b[33m24\u001b[0m\u001b[33m,\u001b[0m\u001b[33m and\u001b[0m\u001b[33m her\u001b[0m\u001b[33m subscribed\u001b[0m\u001b[33m website\u001b[0m\u001b[33m is\u001b[0m\u001b[33m http\u001b[0m\u001b[33m://\u001b[0m\u001b[33mwww\u001b[0m\u001b[33m.step\u001b[0m\u001b[33mh\u001b[0m\u001b[33menson\u001b[0m\u001b[33m.com\u001b[0m\u001b[33m/.\u001b[0m\u001b[97m\u001b[0m\n",
      "\u001b[30m\u001b[0m"
     ]
    },
    {
     "name": "stderr",
     "output_type": "stream",
     "text": [
      "INFO:httpx:HTTP Request: POST http://lsd-llama-milvus-service:8321/v1/agents/ab396f74-efc7-4503-bacd-9c3361fe6243/session/775fcedc-81b7-4360-be76-7e209f301365/turn \"HTTP/1.1 200 OK\"\n"
     ]
    },
    {
     "name": "stdout",
     "output_type": "stream",
     "text": [
      "prompt> List me the revenue from product Widget D and quantity sold on 20/01/2024\n",
      "\u001b[33minference> \u001b[0m\u001b[33m\u001b[0m\u001b[97m\u001b[0m\n",
      "\u001b[32mtool_execution> Tool:knowledge_search Args:{'query': 'revenue from product Widget D and quantity sold on 20/01/2024'}\u001b[0m\n",
      "\u001b[32mtool_execution> Tool:knowledge_search Response:[TextContentItem(text='knowledge_search tool found 5 chunks:\\nBEGIN of knowledge_search tool results.\\n', type='text'), TextContentItem(text=\"Result 1\\nContent: 12500. Widget C, Date = 2024-01-19. Widget C, Quantity = 6. Widget C, Revenue = 6100. Widget D, Date = 2024-01-20. Widget D, Quantity = 8. Widget D, Revenue = 8900\\nMetadata: {'file_name': 'sample_sales_data_SalesData', 'document_id': 'b162f936-3068-4d7e-bca1-a5b5d14fa11c'}\\n\", type='text'), TextContentItem(text=\"Result 2\\nContent: 12500. Widget C, Date = 2024-01-19. Widget C, Quantity = 6. Widget C, Revenue = 6100. Widget D, Date = 2024-01-20. Widget D, Quantity = 8. Widget D, Revenue = 8900\\nMetadata: {'file_name': 'sample_sales_data_SalesData', 'document_id': '62c91f75-10ee-4300-b99c-78bb96d5e023'}\\n\", type='text'), TextContentItem(text=\"Result 3\\nContent: 12500. Widget C, Date = 2024-01-19. Widget C, Quantity = 6. Widget C, Revenue = 6100. Widget D, Date = 2024-01-20. Widget D, Quantity = 8. Widget D, Revenue = 8900\\nMetadata: {'file_name': 'sample_sales_data_SalesData', 'document_id': '25d2a5a7-208a-432e-a856-6f49372b0193'}\\n\", type='text'), TextContentItem(text=\"Result 4\\nContent: 12500. Widget C, Date = 2024-01-19. Widget C, Quantity = 6. Widget C, Revenue = 6100. Widget D, Date = 2024-01-20. Widget D, Quantity = 8. Widget D, Revenue = 8900\\nMetadata: {'file_name': 'sample_sales_data_SalesData', 'document_id': '882745cb-ee8b-4035-be02-3290f387b5b3'}\\n\", type='text'), TextContentItem(text=\"Result 5\\nContent: 12500. Widget C, Date = 2024-01-19. Widget C, Quantity = 6. Widget C, Revenue = 6100. Widget D, Date = 2024-01-20. Widget D, Quantity = 8. Widget D, Revenue = 8900\\nMetadata: {'file_name': 'sample_sales_data_SalesData', 'document_id': '149a7138-db01-4b46-b6ae-ead941a8bae8'}\\n\", type='text'), TextContentItem(text='END of knowledge_search tool results.\\n', type='text'), TextContentItem(text='The above results were retrieved to help answer the user\\'s query: \"revenue from product Widget D and quantity sold on 20/01/2024\". Use them as supporting information only in answering this query.\\n', type='text')]\u001b[0m\n",
      "\u001b[33minference> \u001b[0m\u001b[33m\u001b[0m\u001b[33mBased\u001b[0m\u001b[33m on\u001b[0m\u001b[33m the\u001b[0m\u001b[33m search\u001b[0m\u001b[33m results\u001b[0m\u001b[33m,\u001b[0m\u001b[33m the\u001b[0m\u001b[33m revenue\u001b[0m\u001b[33m from\u001b[0m\u001b[33m product\u001b[0m\u001b[33m Widget\u001b[0m\u001b[33m D\u001b[0m\u001b[33m and\u001b[0m\u001b[33m the\u001b[0m\u001b[33m quantity\u001b[0m\u001b[33m sold\u001b[0m\u001b[33m on\u001b[0m\u001b[33m \u001b[0m\u001b[33m20\u001b[0m\u001b[33m/\u001b[0m\u001b[33m01\u001b[0m\u001b[33m/\u001b[0m\u001b[33m202\u001b[0m\u001b[33m4\u001b[0m\u001b[33m is\u001b[0m\u001b[33m as\u001b[0m\u001b[33m follows\u001b[0m\u001b[33m:\n",
      "\n",
      "\u001b[0m\u001b[33m*\u001b[0m\u001b[33m Revenue\u001b[0m\u001b[33m:\u001b[0m\u001b[33m $\u001b[0m\u001b[33m8\u001b[0m\u001b[33m,\u001b[0m\u001b[33m900\u001b[0m\u001b[33m\n",
      "\u001b[0m\u001b[33m*\u001b[0m\u001b[33m Quantity\u001b[0m\u001b[33m:\u001b[0m\u001b[33m \u001b[0m\u001b[33m8\u001b[0m\u001b[33m\n",
      "\n",
      "\u001b[0m\u001b[33mThis\u001b[0m\u001b[33m information\u001b[0m\u001b[33m is\u001b[0m\u001b[33m based\u001b[0m\u001b[33m on\u001b[0m\u001b[33m the\u001b[0m\u001b[33m sales\u001b[0m\u001b[33m data\u001b[0m\u001b[33m provided\u001b[0m\u001b[33m in\u001b[0m\u001b[33m the\u001b[0m\u001b[33m search\u001b[0m\u001b[33m results\u001b[0m\u001b[33m,\u001b[0m\u001b[33m which\u001b[0m\u001b[33m shows\u001b[0m\u001b[33m that\u001b[0m\u001b[33m Widget\u001b[0m\u001b[33m D\u001b[0m\u001b[33m was\u001b[0m\u001b[33m sold\u001b[0m\u001b[33m for\u001b[0m\u001b[33m $\u001b[0m\u001b[33m8\u001b[0m\u001b[33m,\u001b[0m\u001b[33m900\u001b[0m\u001b[33m on\u001b[0m\u001b[33m January\u001b[0m\u001b[33m \u001b[0m\u001b[33m20\u001b[0m\u001b[33m,\u001b[0m\u001b[33m \u001b[0m\u001b[33m202\u001b[0m\u001b[33m4\u001b[0m\u001b[33m,\u001b[0m\u001b[33m and\u001b[0m\u001b[33m a\u001b[0m\u001b[33m total\u001b[0m\u001b[33m of\u001b[0m\u001b[33m \u001b[0m\u001b[33m8\u001b[0m\u001b[33m units\u001b[0m\u001b[33m were\u001b[0m\u001b[33m sold\u001b[0m\u001b[33m.\u001b[0m\u001b[97m\u001b[0m\n",
      "\u001b[30m\u001b[0m"
     ]
    },
    {
     "name": "stderr",
     "output_type": "stream",
     "text": [
      "INFO:httpx:HTTP Request: POST http://lsd-llama-milvus-service:8321/v1/agents/ab396f74-efc7-4503-bacd-9c3361fe6243/session/775fcedc-81b7-4360-be76-7e209f301365/turn \"HTTP/1.1 200 OK\"\n"
     ]
    },
    {
     "name": "stdout",
     "output_type": "stream",
     "text": [
      "prompt> What is the economics condition at Ireland in 2025?\n",
      "\u001b[33minference> \u001b[0m\u001b[33m\u001b[0m\u001b[97m\u001b[0m\n",
      "\u001b[32mtool_execution> Tool:knowledge_search Args:{'query': 'economics condition in Ireland in 2025'}\u001b[0m\n",
      "\u001b[32mtool_execution> Tool:knowledge_search Response:[TextContentItem(text='knowledge_search tool found 5 chunks:\\nBEGIN of knowledge_search tool results.\\n', type='text'), TextContentItem(text=\"Result 1\\nContent: 12500. Widget C, Date = 2024-01-19. Widget C, Quantity = 6. Widget C, Revenue = 6100. Widget D, Date = 2024-01-20. Widget D, Quantity = 8. Widget D, Revenue = 8900\\nMetadata: {'file_name': 'sample_sales_data_SalesData', 'document_id': '62c91f75-10ee-4300-b99c-78bb96d5e023'}\\n\", type='text'), TextContentItem(text=\"Result 2\\nContent: 12500. Widget C, Date = 2024-01-19. Widget C, Quantity = 6. Widget C, Revenue = 6100. Widget D, Date = 2024-01-20. Widget D, Quantity = 8. Widget D, Revenue = 8900\\nMetadata: {'file_name': 'sample_sales_data_SalesData', 'document_id': 'b162f936-3068-4d7e-bca1-a5b5d14fa11c'}\\n\", type='text'), TextContentItem(text=\"Result 3\\nContent: 12500. Widget C, Date = 2024-01-19. Widget C, Quantity = 6. Widget C, Revenue = 6100. Widget D, Date = 2024-01-20. Widget D, Quantity = 8. Widget D, Revenue = 8900\\nMetadata: {'file_name': 'sample_sales_data_SalesData', 'document_id': '25d2a5a7-208a-432e-a856-6f49372b0193'}\\n\", type='text'), TextContentItem(text=\"Result 4\\nContent: 12500. Widget C, Date = 2024-01-19. Widget C, Quantity = 6. Widget C, Revenue = 6100. Widget D, Date = 2024-01-20. Widget D, Quantity = 8. Widget D, Revenue = 8900\\nMetadata: {'file_name': 'sample_sales_data_SalesData', 'document_id': '882745cb-ee8b-4035-be02-3290f387b5b3'}\\n\", type='text'), TextContentItem(text=\"Result 5\\nContent: 12500. Widget C, Date = 2024-01-19. Widget C, Quantity = 6. Widget C, Revenue = 6100. Widget D, Date = 2024-01-20. Widget D, Quantity = 8. Widget D, Revenue = 8900\\nMetadata: {'file_name': 'sample_sales_data_SalesData', 'document_id': '149a7138-db01-4b46-b6ae-ead941a8bae8'}\\n\", type='text'), TextContentItem(text='END of knowledge_search tool results.\\n', type='text'), TextContentItem(text='The above results were retrieved to help answer the user\\'s query: \"economics condition in Ireland in 2025\". Use them as supporting information only in answering this query.\\n', type='text')]\u001b[0m\n",
      "\u001b[33minference> \u001b[0m\u001b[33m\u001b[0m\u001b[33mI\u001b[0m\u001b[33m don\u001b[0m\u001b[33m’t\u001b[0m\u001b[33m know\u001b[0m\u001b[33m what\u001b[0m\u001b[33m the\u001b[0m\u001b[33m economics\u001b[0m\u001b[33m condition\u001b[0m\u001b[33m is\u001b[0m\u001b[33m in\u001b[0m\u001b[33m Ireland\u001b[0m\u001b[33m in\u001b[0m\u001b[33m \u001b[0m\u001b[33m202\u001b[0m\u001b[33m5\u001b[0m\u001b[33m.\u001b[0m\u001b[97m\u001b[0m\n",
      "\u001b[30m\u001b[0m"
     ]
    },
    {
     "name": "stderr",
     "output_type": "stream",
     "text": [
      "INFO:httpx:HTTP Request: GET http://lsd-llama-milvus-service:8321/v1/agents/ab396f74-efc7-4503-bacd-9c3361fe6243/session/775fcedc-81b7-4360-be76-7e209f301365 \"HTTP/1.1 200 OK\"\n"
     ]
    }
   ],
   "source": [
    "from llama_stack_client import Agent, AgentEventLogger\n",
    "import uuid\n",
    "\n",
    "rag_agent = Agent(\n",
    "    client,\n",
    "    model=\"vllm\",\n",
    "    instructions=\"You are a helpful assistant. Answer the user's question based only on the provided search results. Respond with 'I don’t know' if the information is outside of the scope of your knowledge and not present in the search results.\",\n",
    "    tools=[\n",
    "        {\n",
    "            \"name\": \"builtin::rag/knowledge_search\",\n",
    "            \"args\": {\"vector_db_ids\": [\"csv-vector-db\"]},\n",
    "        }\n",
    "    ],\n",
    ")\n",
    "\n",
    "user_prompts = [\n",
    "    \"What is gender, country and age of Dulce Abril and Philip Gent?\",\n",
    "    \"What is customer id, company, city, country, phone number, email, subscription date, subscribed website of of Sheryl Baxter?\",\n",
    "    \"List me the revenue from product Widget D and quantity sold on 20/01/2024\",\n",
    "    \"What is the economics condition at Ireland in 2025?\", # Dummy question the model will answer with 'I don’t know' \n",
    "]\n",
    "\n",
    "session_id = rag_agent.create_session(session_name=f\"s{uuid.uuid4().hex}\")\n",
    "\n",
    "for prompt in user_prompts:\n",
    "    print(\"prompt>\", prompt)\n",
    "    response = rag_agent.create_turn(\n",
    "        messages=[{\"role\": \"user\", \"content\": prompt}],\n",
    "        session_id=session_id,\n",
    "        stream=True,\n",
    "    )\n",
    "    for log in AgentEventLogger().log(response):\n",
    "        log.print()\n",
    "\n",
    "# Get session response for further evaluation of RAG metrics\n",
    "session_response = client.agents.session.retrieve(\n",
    "    session_id=session_id,\n",
    "    agent_id=rag_agent.agent_id,\n",
    ")"
   ]
  },
  {
   "cell_type": "code",
   "execution_count": null,
   "id": "1372a406-acf2-4d56-92f5-0cff7e0c4d5f",
   "metadata": {},
   "outputs": [],
   "source": []
  }
 ],
 "metadata": {
  "kernelspec": {
   "display_name": "Python 3.11",
   "language": "python",
   "name": "python3"
  },
  "language_info": {
   "codemirror_mode": {
    "name": "ipython",
    "version": 3
   },
   "file_extension": ".py",
   "mimetype": "text/x-python",
   "name": "python",
   "nbconvert_exporter": "python",
   "pygments_lexer": "ipython3",
   "version": "3.11.11"
  }
 },
 "nbformat": 4,
 "nbformat_minor": 5
}
